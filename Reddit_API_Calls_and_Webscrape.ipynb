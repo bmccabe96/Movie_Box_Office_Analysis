{
 "cells": [
  {
   "cell_type": "markdown",
   "metadata": {},
   "source": [
    "#                                           Reddit API and Webscape "
   ]
  },
  {
   "cell_type": "markdown",
   "metadata": {},
   "source": [
    "## The goals of the follwing code is:\n",
    "### to import data from Reddit using API Calls\n",
    "### Scrape Data using Selenium\n",
    "### format collected strings and compile data into easy to follow lists and then make a master list (list of lists)\n",
    "### create dataframe from master list  and save datataframe to a csv file for future data anaylsis"
   ]
  },
  {
   "cell_type": "markdown",
   "metadata": {},
   "source": [
    "### 1. Reddit API Code"
   ]
  },
  {
   "cell_type": "code",
   "execution_count": 1,
   "metadata": {},
   "outputs": [],
   "source": [
    "import praw  #Importing necessary modules\n",
    "import pandas as pd\n",
    "import datetime as dt\n",
    "import reddit_cred\n",
    "#reddit cred is a personal python script with my reddit info"
   ]
  },
  {
   "cell_type": "code",
   "execution_count": 2,
   "metadata": {},
   "outputs": [],
   "source": [
    "from reddit_cred import client_id\n",
    "from reddit_cred import client_secret #all of these credentials are needed to\n",
    "from reddit_cred import user_agent    #get reddit data access\n",
    "from reddit_cred import username\n",
    "from reddit_cred import password"
   ]
  },
  {
   "cell_type": "code",
   "execution_count": 3,
   "metadata": {},
   "outputs": [],
   "source": [
    "reddit = praw.Reddit(client_id=client_id, \n",
    "                     client_secret=client_secret, #praw is the method from Reddit\n",
    "                     user_agent=user_agent, \n",
    "                     username=username, \n",
    "                     password=password)"
   ]
  },
  {
   "cell_type": "code",
   "execution_count": 4,
   "metadata": {},
   "outputs": [],
   "source": [
    "subreddit = reddit.subreddit('moviesboxoffice') #movies box office is a subreddit I found\n",
    "                                                #that contains table of weekly box office\n",
    "                                                #sales data\n",
    "                                                #will be vaulable for its budget numbers\n",
    "                                                #gross domestic and worldwide sales numbers"
   ]
  },
  {
   "cell_type": "code",
   "execution_count": 5,
   "metadata": {},
   "outputs": [],
   "source": [
    "new_subreddit = subreddit.new(limit=500)\n",
    "#will select the most recent entries up to 500"
   ]
  },
  {
   "cell_type": "code",
   "execution_count": 6,
   "metadata": {
    "scrolled": true
   },
   "outputs": [
    {
     "data": {
      "text/plain": [
       "['__abstractmethods__',\n",
       " '__class__',\n",
       " '__class_getitem__',\n",
       " '__delattr__',\n",
       " '__dict__',\n",
       " '__dir__',\n",
       " '__doc__',\n",
       " '__eq__',\n",
       " '__format__',\n",
       " '__ge__',\n",
       " '__getattribute__',\n",
       " '__gt__',\n",
       " '__hash__',\n",
       " '__init__',\n",
       " '__init_subclass__',\n",
       " '__iter__',\n",
       " '__le__',\n",
       " '__lt__',\n",
       " '__module__',\n",
       " '__ne__',\n",
       " '__new__',\n",
       " '__next__',\n",
       " '__orig_bases__',\n",
       " '__parameters__',\n",
       " '__reduce__',\n",
       " '__reduce_ex__',\n",
       " '__repr__',\n",
       " '__setattr__',\n",
       " '__sizeof__',\n",
       " '__slots__',\n",
       " '__str__',\n",
       " '__subclasshook__',\n",
       " '__weakref__',\n",
       " '_abc_impl',\n",
       " '_exhausted',\n",
       " '_is_protocol',\n",
       " '_list_index',\n",
       " '_listing',\n",
       " '_next_batch',\n",
       " '_reddit',\n",
       " '_safely_add_arguments',\n",
       " 'limit',\n",
       " 'params',\n",
       " 'parse',\n",
       " 'url',\n",
       " 'yielded']"
      ]
     },
     "execution_count": 6,
     "metadata": {},
     "output_type": "execute_result"
    }
   ],
   "source": [
    "dir(new_subreddit) #checking the methods and functions releted to 'new_subreddit'"
   ]
  },
  {
   "cell_type": "code",
   "execution_count": 7,
   "metadata": {
    "scrolled": false
   },
   "outputs": [
    {
     "data": {
      "text/plain": [
       "202"
      ]
     },
     "execution_count": 7,
     "metadata": {},
     "output_type": "execute_result"
    }
   ],
   "source": [
    "urls=[]; #For me the url method will be useful,as I can then collect the urls associated \n",
    "for i in new_subreddit:                                    #with the box office data\n",
    "    urls.append(i.url)\n",
    "len(urls)    \n",
    "#Let's see how many urls we collected"
   ]
  },
  {
   "cell_type": "code",
   "execution_count": 8,
   "metadata": {
    "scrolled": false
   },
   "outputs": [
    {
     "data": {
      "text/plain": [
       "'https://www.reddit.com/r/movies/comments/bwag87/box_office_week_godzilla_king_of_the_monsters/'"
      ]
     },
     "execution_count": 8,
     "metadata": {},
     "output_type": "execute_result"
    }
   ],
   "source": [
    "urls[0] #the first url we collected"
   ]
  },
  {
   "cell_type": "markdown",
   "metadata": {},
   "source": [
    "### 2. Webscraping data using selenium library"
   ]
  },
  {
   "cell_type": "code",
   "execution_count": 9,
   "metadata": {},
   "outputs": [],
   "source": [
    "from selenium import webdriver #Now, I import the selenium library and other necessary\n",
    "import pandas as pd            #libraries for the data scraping\n",
    "import numpy as np\n",
    "import time\n",
    "time.sleep(np.random.randint(0,4))"
   ]
  },
  {
   "cell_type": "code",
   "execution_count": 10,
   "metadata": {
    "scrolled": false
   },
   "outputs": [],
   "source": [
    "driver = webdriver.Chrome('/Users/scogs/Downloads/chromedriver')\n",
    "#To use selenium,you need a 'driver' aka web browser that will automatically do what \n",
    "#commands you code                                            "
   ]
  },
  {
   "cell_type": "code",
   "execution_count": 11,
   "metadata": {},
   "outputs": [],
   "source": [
    "driver.get(urls[0]) #I test this with the first url we collected"
   ]
  },
  {
   "cell_type": "code",
   "execution_count": 12,
   "metadata": {},
   "outputs": [],
   "source": [
    "test=driver.find_element_by_class_name('MRH-njmSb5ZTkfb1o4dqv') \n",
    "#test is making sure I am scraping the correct table data\n",
    "#the value in the string comes from inspecting the  table element on chrome and finding\n",
    "#the class value"
   ]
  },
  {
   "cell_type": "code",
   "execution_count": 13,
   "metadata": {},
   "outputs": [
    {
     "data": {
      "text/plain": [
       "['Rank Title Domestic Gross (Weekend) Worldwide Gross (Cume) Week # Percentage Change Budget\\n1 Godzilla: King of the Monsters $49,025,000 $179,025,000 1 N/A $170M\\n2 Aladdin (2019) $42,335,000 $445,932,174 2 -53.7% $183M\\n3 Rocketman $25,000,000 $56,200,000 1 N/A $40M\\n4 Ma $18,260,000 $21,060,000 1 N/A $5M\\n5 John Wick: Chapter 3 - Parabellum $11,100,000 $221,652,812 3 -54.9% $55M']"
      ]
     },
     "execution_count": 13,
     "metadata": {},
     "output_type": "execute_result"
    }
   ],
   "source": [
    "A=test.text #Now we take the text and I call it A\n",
    "lists=[];\n",
    "lists.append(A) #  append A to a blank list 'lists'\n",
    "lists\n",
    "#example test of what the scrape will look like"
   ]
  },
  {
   "cell_type": "markdown",
   "metadata": {},
   "source": [
    "#### 2a. Scraping the Data with Selenium using for loop"
   ]
  },
  {
   "cell_type": "code",
   "execution_count": 14,
   "metadata": {
    "scrolled": false
   },
   "outputs": [
    {
     "data": {
      "text/plain": [
       "46"
      ]
     },
     "execution_count": 14,
     "metadata": {},
     "output_type": "execute_result"
    }
   ],
   "source": [
    "from selenium.common.exceptions import NoSuchElementException #getting some strange errors\n",
    "from selenium.common.exceptions import StaleElementReferenceException #so to correct I used\n",
    "lists=[];                                                             #try-except solution\n",
    "new_urls=urls[1:12]+urls[13:18]+urls[19:30]+urls[30:43]+urls[44:50]\n",
    "#new_urls is a subset of urls because only this set contains budget data\n",
    "# which we value highly\n",
    "for url in new_urls:\n",
    "    driver.get(url)\n",
    "    try:\n",
    "        test=driver.find_element_by_class_name('MRH-njmSb5ZTkfb1o4dqv')\n",
    "    except (StaleElementReferenceException,StaleNameError,NoSuchElementException):\n",
    "        continue\n",
    "    finally:\n",
    "        lists.append(test.text)\n",
    "len(lists) \n",
    "#Compiled a list of all the information on all of the tables on the url set"
   ]
  },
  {
   "cell_type": "code",
   "execution_count": 15,
   "metadata": {},
   "outputs": [
    {
     "data": {
      "text/plain": [
       "'Rank Title Domestic Gross (Weekend) Worldwide Gross (Cume) Week # Percentage Change Budget\\n1 Shazam! $25,140,000 $221,213,013 2 -53.0% $100M\\n2 Little $15,499,000 $17,399,000 1 N/A $20M\\n3 Hellboy (2019) $12,015,000 $12,015,000 1 N/A $50M\\n4 Pet Sematary (2019) $10,000,000 $76,821,660 2 -59.2% $21M\\n5 Dumbo (2019) $9,186,000 $266,945,162 3 -49.6% $170M'"
      ]
     },
     "execution_count": 15,
     "metadata": {},
     "output_type": "execute_result"
    }
   ],
   "source": [
    "lists[6] #what each table looks like as a list entry"
   ]
  },
  {
   "cell_type": "code",
   "execution_count": 16,
   "metadata": {},
   "outputs": [
    {
     "data": {
      "text/plain": [
       "'https://www.reddit.com/r/movies/comments/8s03ji/box_office_week_incredibles_2_smashes_the/'"
      ]
     },
     "execution_count": 16,
     "metadata": {},
     "output_type": "execute_result"
    }
   ],
   "source": [
    "urls[49] [''] #last url we scraped from"
   ]
  },
  {
   "cell_type": "markdown",
   "metadata": {},
   "source": [
    "#### 3. String formatting and Data Organization"
   ]
  },
  {
   "cell_type": "markdown",
   "metadata": {},
   "source": [
    "#### 3a. splitting data using end of line "
   ]
  },
  {
   "cell_type": "code",
   "execution_count": 17,
   "metadata": {},
   "outputs": [
    {
     "data": {
      "text/plain": [
       "['Rank Title Domestic Gross (Weekend) Worldwide Gross (Cume) Week # Percentage Change Budget',\n",
       " '1 Shazam! $25,140,000 $221,213,013 2 -53.0% $100M',\n",
       " '2 Little $15,499,000 $17,399,000 1 N/A $20M',\n",
       " '3 Hellboy (2019) $12,015,000 $12,015,000 1 N/A $50M',\n",
       " '4 Pet Sematary (2019) $10,000,000 $76,821,660 2 -59.2% $21M',\n",
       " '5 Dumbo (2019) $9,186,000 $266,945,162 3 -49.6% $170M']"
      ]
     },
     "execution_count": 17,
     "metadata": {},
     "output_type": "execute_result"
    }
   ],
   "source": [
    "lists[6].split('\\n') #seperating data by row"
   ]
  },
  {
   "cell_type": "code",
   "execution_count": 18,
   "metadata": {},
   "outputs": [],
   "source": [
    "f_list=lists[6].split('\\n') #testing to make sure the data is being seperated as desired"
   ]
  },
  {
   "cell_type": "code",
   "execution_count": 19,
   "metadata": {},
   "outputs": [
    {
     "data": {
      "text/plain": [
       "'1 Shazam! $25,140,000 $221,213,013 2 -53.0% $100M'"
      ]
     },
     "execution_count": 19,
     "metadata": {},
     "output_type": "execute_result"
    }
   ],
   "source": [
    "f_list[1] #what each row looks like"
   ]
  },
  {
   "cell_type": "code",
   "execution_count": 20,
   "metadata": {},
   "outputs": [
    {
     "data": {
      "text/plain": [
       "46"
      ]
     },
     "execution_count": 20,
     "metadata": {},
     "output_type": "execute_result"
    }
   ],
   "source": [
    "formatted_list=[]\n",
    "for list in lists:\n",
    "    formatted_list.append(list.split('\\n'))\n",
    "len(formatted_list) #looped through all of tables"
   ]
  },
  {
   "cell_type": "code",
   "execution_count": 21,
   "metadata": {},
   "outputs": [
    {
     "data": {
      "text/plain": [
       "'5 Dumbo (2019) $9,186,000 $266,945,162 3 -49.6% $170M'"
      ]
     },
     "execution_count": 21,
     "metadata": {},
     "output_type": "execute_result"
    }
   ],
   "source": [
    "formatted_list[6][5] #how a row from a table looks like now"
   ]
  },
  {
   "cell_type": "markdown",
   "metadata": {},
   "source": [
    "#### 3b. Organizing data using string method from above"
   ]
  },
  {
   "cell_type": "code",
   "execution_count": 22,
   "metadata": {},
   "outputs": [
    {
     "name": "stdout",
     "output_type": "stream",
     "text": [
      "46\n"
     ]
    }
   ],
   "source": [
    "row_1=[]\n",
    "row_2=[]\n",
    "row_3=[]\n",
    "row_4=[]\n",
    "row_5=[]\n",
    "row_6=[]\n",
    "for i in range(len(formatted_list)):\n",
    "    row_1.append(formatted_list[i][0])\n",
    "    row_2.append(formatted_list[i][1])\n",
    "    row_3.append(formatted_list[i][2])\n",
    "    row_4.append(formatted_list[i][3])\n",
    "    row_5.append(formatted_list[i][4])\n",
    "    row_6.append(formatted_list[i][5])\n",
    "print(len(row_6)) #seperated each entry by its row number"
   ]
  },
  {
   "cell_type": "code",
   "execution_count": 23,
   "metadata": {},
   "outputs": [
    {
     "data": {
      "text/plain": [
       "['5 Brightburn ', '9,500,000 ', '17,300,000 1 N/A ', '6M']"
      ]
     },
     "execution_count": 23,
     "metadata": {},
     "output_type": "execute_result"
    }
   ],
   "source": [
    "row_6[0].split('$') #testing how to further seperate distinct info"
   ]
  },
  {
   "cell_type": "code",
   "execution_count": 24,
   "metadata": {},
   "outputs": [
    {
     "data": {
      "text/plain": [
       "['5 The Hustle ', '6,080,788 ', '51,245,512 2 -53.3% ', '43M']"
      ]
     },
     "execution_count": 24,
     "metadata": {},
     "output_type": "execute_result"
    }
   ],
   "source": [
    "row_6[1].split('$') #2nd test to confirm "
   ]
  },
  {
   "cell_type": "code",
   "execution_count": 25,
   "metadata": {
    "scrolled": true
   },
   "outputs": [
    {
     "data": {
      "text/plain": [
       "['Rank Title Domestic Gross (Weekend) Worldwide Gross (Cume) Week # Percentage Change Budget',\n",
       " 'Rank Title Domestic Gross (Weekend) Worldwide Gross (Cume) Week # Percentage Change Budget',\n",
       " 'Rank Title Domestic Gross (Weekend) Worldwide Gross (Cume) Week # Percentage Change Budget',\n",
       " 'Rank Title Domestic Gross (Weekend) Worldwide Gross (Cume) Week # Percentage Change Budget',\n",
       " 'Rank Title Domestic Gross (Weekend) Worldwide Gross (Cume) Week # Percentage Change Budget',\n",
       " 'Rank Title Domestic Gross (Weekend) Worldwide Gross (Cume) Week # Percentage Change Budget',\n",
       " 'Rank Title Domestic Gross (Weekend) Worldwide Gross (Cume) Week # Percentage Change Budget',\n",
       " 'Rank Title Domestic Gross (Weekend) Worldwide Gross (Cume) Week # Percentage Change Budget',\n",
       " 'Rank Title Domestic Gross (Weekend) Worldwide Gross (Cume) Week # Percentage Change Budget',\n",
       " 'Rank Title Domestic Gross (Weekend) Worldwide Gross (Cume) Week # Percentage Change Budget',\n",
       " 'Rank Title Domestic Gross (Weekend) Worldwide Gross (Cume) Week # Percentage Change Budget',\n",
       " 'Rank Title Domestic Gross (Weekend) Worldwide Gross (Cume) Week # Percentage Change Budget',\n",
       " 'Rank Title Domestic Gross (Weekend) Worldwide Gross (Cume) Week # Percentage Change Budget',\n",
       " 'Rank Title Domestic Gross (Weekend) Worldwide Gross (Cume) Week # Percentage Change Budget',\n",
       " 'Rank Title Domestic Gross (Weekend) Worldwide Gross (Cume) Week # Percentage Change Budget',\n",
       " 'Rank Title Domestic Gross (Weekend) Worldwide Gross (Cume) Week # Percentage Change Budget',\n",
       " 'Rank Title Domestic Gross (Weekend) Worldwide Gross (Cume) Week # Percentage Change Budget',\n",
       " 'Rank Title Domestic Gross (Weekend) Worldwide Gross (Cume) Week # Percentage Change Budget',\n",
       " 'Rank Title Domestic Gross (Weekend) Worldwide Gross (Cume) Week # Percentage Change Budget',\n",
       " 'Rank Title Domestic Gross (Weekend) Worldwide Gross (Cume) Week # Percentage Change Budget',\n",
       " 'Rank Title Domestic Gross (Weekend) Worldwide Gross (Cume) Week # Percentage Change Budget',\n",
       " 'Rank Title Domestic Gross (Weekend) Worldwide Gross (Cume) Week # Percentage Change Budget',\n",
       " 'Rank Title Domestic Gross (Weekend) Worldwide Gross (Cume) Week # Percentage Change Budget',\n",
       " 'Rank Title Domestic Gross (Weekend) Worldwide Gross (Cume) Week # Percentage Change (for three-day numbers) Budget',\n",
       " 'Rank Title Domestic Gross (Weekend) Worldwide Gross (Cume) Week # Percentage Change Budget',\n",
       " 'Rank Title Domestic Gross (Weekend) Worldwide Gross (Cume) Week # Percentage Change Budget',\n",
       " 'Rank Title Domestic Gross (Weekend) Worldwide Gross (Cume) Week # Percentage Change Budget',\n",
       " 'Rank Title Domestic Gross (Weekend) Worldwide Gross (Cume) Week # Percentage Change Budget',\n",
       " 'Rank Title Domestic Gross (Weekend) Worldwide Gross (Cume) Week # Percentage Change Budget',\n",
       " 'Rank Title Domestic Gross (Weekend) Worldwide Gross (Cume) Week # Percentage Change Budget',\n",
       " 'Rank Title Domestic Gross (Weekend) Worldwide Gross (Cume) Week # Percentage Change Budget',\n",
       " 'Rank Title Domestic Gross (Weekend) Worldwide Gross (Cume) Week # Percentage Change Budget',\n",
       " 'Rank Title Domestic Gross (Weekend) Worldwide Gross (Cume) Week # Percentage Change Budget',\n",
       " 'Rank Title Domestic Gross (Weekend) Worldwide Gross (Cume) Week # Percentage Change Budget',\n",
       " 'Rank Title Domestic Gross (Weekend) Worldwide Gross (Cume) Week # Percentage Change Budget',\n",
       " 'Rank Title Domestic Gross (Weekend) Worldwide Gross (Cume) Week # Percentage Change Budget',\n",
       " 'Rank Title Domestic Gross (Weekend) Worldwide Gross (Cume) Week # Percentage Change Budget',\n",
       " 'Rank Title Domestic Gross (Weekend) Worldwide Gross (Cume) Week # Percentage Change Budget',\n",
       " 'Rank Title Domestic Gross (Weekend) Worldwide Gross (Cume) Week # Percentage Change Budget',\n",
       " 'Rank Title Domestic Gross (Weekend) Worldwide Gross (Cume) Week # Percentage Change Budget',\n",
       " 'Rank Title Domestic Gross (Weekend) Worldwide Gross (Cume) Week # Percentage Change Budget',\n",
       " 'Rank Title Domestic Gross (Weekend) Worldwide Gross (Cume) Week # Percentage Change Budget',\n",
       " 'Rank Title Domestic Gross (Weekend) Worldwide Gross (Cume) Week # Percentage Change Budget',\n",
       " 'Rank Title Domestic Gross (Weekend) Worldwide Gross (Cume) Week # Percentage Change Budget',\n",
       " 'Rank Title Domestic Gross (Weekend) Worldwide Gross (Cume) Week # Percentage Change Budget',\n",
       " 'Rank Title Domestic Gross (Weekend) Worldwide Gross (Cume) Week # Percentage Change Budget']"
      ]
     },
     "execution_count": 25,
     "metadata": {},
     "output_type": "execute_result"
    }
   ],
   "source": [
    "row_1 #row 1 is column title so it is constant.so we only need it once."
   ]
  },
  {
   "cell_type": "code",
   "execution_count": 26,
   "metadata": {},
   "outputs": [
    {
     "data": {
      "text/plain": [
       "46"
      ]
     },
     "execution_count": 26,
     "metadata": {},
     "output_type": "execute_result"
    }
   ],
   "source": [
    "r_2=[];\n",
    "r_3=[];\n",
    "r_4=[];\n",
    "r_5=[];\n",
    "r_6=[];\n",
    "for i in range(len(row_2)):\n",
    "    r_2.append(row_2[i].split('$'))\n",
    "    r_3.append(row_3[i].split('$'))\n",
    "    r_4.append(row_4[i].split('$'))\n",
    "    r_5.append(row_5[i].split('$'))\n",
    "    r_6.append(row_6[i].split('$'))\n",
    "len(r_2) #applying the $ split to all of the rows and making sure length of row 2 is right"
   ]
  },
  {
   "cell_type": "code",
   "execution_count": 27,
   "metadata": {},
   "outputs": [
    {
     "data": {
      "text/plain": [
       "[['1 Aladdin (2019) ', '112,700,000 ', '233,700,000 1 N/A ', '183M'],\n",
       " ['1 John Wick: Chapter 3 - Parabellum ',\n",
       "  '57,025,000 ',\n",
       "  '149,225,000 1 N/A ',\n",
       "  '55M'],\n",
       " ['1 Avengers: Endgame ', '63,054,000 ', '2,485,499,739 3 -57.2% ', '356M'],\n",
       " ['1 Avengers: Endgame ', '145,804,000 ', '2,188,698,638 2 -59.2% ', '356M'],\n",
       " ['1 Avengers: Endgame ', '350,000,000 ', '1,209,000,000 1 N/A ', '356M'],\n",
       " ['1 The Curse of La Llorona ', '26,505,000 ', '56,505,000 1 N/A ', '9M'],\n",
       " ['1 Shazam! ', '25,140,000 ', '221,213,013 2 -53.0% ', '100M'],\n",
       " ['1 Shazam! ', '53,450,000 ', '158,775,000 1 N/A ', '100M'],\n",
       " ['1 Dumbo (2019) ', '45,000,000 ', '116,000,000 1 N/A ', '150M'],\n",
       " ['1 Us ', '70,250,000 ', '86,950,000 1 N/A ', '20M'],\n",
       " ['1 Captain Marvel ', '69,318,000 ', '760,213,933 2 -54.8% ', '152M'],\n",
       " ['1 How to Train Your Dragon: The Hidden World ',\n",
       "  '30,046,000 ',\n",
       "  '375,396,275 2 -45.4% ',\n",
       "  '129M'],\n",
       " ['1 How to Train Your Dragon: The Hidden World ',\n",
       "  '55,527,000 ',\n",
       "  '274,927,000 1 N/A ',\n",
       "  '129M'],\n",
       " ['1 Alita: Battle Angel ', '34,300,000 ', '137,385,895 1 N/A ', '170M'],\n",
       " ['1 The LEGO Movie 2: The Second Part ',\n",
       "  '34,400,000 ',\n",
       "  '52,500,000 1 N/A ',\n",
       "  '100M'],\n",
       " ['1 Glass ', '9,535,000 ', '198,955,100 3 -49.5% ', '20M'],\n",
       " ['1 Glass ', '40,586,000 ', '89,086,000 1 N/A ', '20M'],\n",
       " ['1 The Upside ', '19,590,000 ', '19,590,000 1 N/A ', '37.5M'],\n",
       " ['1 Aquaman ', '30,700,000 ', '940,720,880 3 -41.1% ', '200M'],\n",
       " ['1 Aquaman ', '51,550,000 ', '748,785,000 2 -23.5% ', '200M'],\n",
       " ['1 Aquaman ', '67,400,000 ', '482,800,000 1 N/A ', '200M'],\n",
       " ['1 Spider-Man: Into The Spider-Verse ',\n",
       "  '35,400,000 ',\n",
       "  '56,400,000 1 N/A ',\n",
       "  '90M'],\n",
       " ['1 Ralph Breaks the Internet ',\n",
       "  '25,756,000 ',\n",
       "  '206,994,233 2 -54.2% ',\n",
       "  '175M'],\n",
       " ['1 Ralph Breaks the Internet ', '84,472,000 ', '125,972,000 1 N/A ', '175M'],\n",
       " ['1 Fantastic Beasts: The Crimes of Grindelwald ',\n",
       "  '62,200,000 ',\n",
       "  '253,200,000 1 N/A ',\n",
       "  '200M'],\n",
       " [\"1 Dr. Seuss' The Grinch (2018) \",\n",
       "  '66,000,000 ',\n",
       "  '78,700,000 1 N/A ',\n",
       "  '75M'],\n",
       " ['1 Bohemian Rhapsody ', '50,000,000 ', '141,703,510 1 N/A ', '52M'],\n",
       " ['1 Halloween (2018) ', '32,045,000 ', '172,298,400 2 -58.0% ', '10M'],\n",
       " ['1 Halloween (2018) ', '77,501,000 ', '91,801,000 1 N/A ', '10M'],\n",
       " ['1 Venom ', '35,700,000 ', '378,102,151 2 -55.5% ', '100M'],\n",
       " ['1 Venom ', '80,030,000 ', '205,230,000 1 N/A ', '100M'],\n",
       " ['1 Night School ', '28,000,000 ', '33,500,000 1 N/A ', '29M'],\n",
       " ['1 The Predator ', '24,000,000 ', '54,727,235 1 N/A ', '88M'],\n",
       " ['1 The Nun ', '53,807,379 ', '133,107,379 1 N/A ', '22M'],\n",
       " ['1 Crazy Rich Asians ', '22,235,000 ', '130,861,388 3 -10.4% ', '30M'],\n",
       " ['1 Crazy Rich Asians ', '25,010,000 ', '83,917,947 2 -5.7% ', '30M'],\n",
       " ['1 Crazy Rich Asians ', '25,235,000 ', '34,731,769 1 N/A ', '30M'],\n",
       " ['1 The Meg ', '44,500,000 ', '141,500,000 1 N/A ', '130M'],\n",
       " ['1 Mission: Impossible - Fallout ',\n",
       "  '35,000,000 ',\n",
       "  '329,487,371 2 -42.8% ',\n",
       "  '178M'],\n",
       " ['1 Mission: Impossible - Fallout ',\n",
       "  '61,500,000 ',\n",
       "  '153,500,000 1 N/A ',\n",
       "  '178M'],\n",
       " ['1 The Equalizer 2 ', '35,825,000 ', '39,125,000 1 N/A ', '62M'],\n",
       " ['1 Hotel Transylvania 3: Summer Vacation ',\n",
       "  '44,100,000 ',\n",
       "  '100,176,000 1 N/A ',\n",
       "  '80M'],\n",
       " ['1 Ant-Man and the Wasp ',\n",
       "  '76,030,000 ',\n",
       "  '161,030,000 1 N/A ',\n",
       "  '160M-',\n",
       "  '170M'],\n",
       " ['1 Jurassic World: Fallen Kingdom ',\n",
       "  '60,000,000 ',\n",
       "  '932,387,335 2 -59.5% ',\n",
       "  '170M'],\n",
       " ['1 Jurassic World: Fallen Kingdom ',\n",
       "  '150,001,000 ',\n",
       "  '711,501,000 1 N/A ',\n",
       "  '170M'],\n",
       " ['1 Incredibles 2 ', '180,000,000 ', '231,500,000 1 N/A UNK']]"
      ]
     },
     "execution_count": 27,
     "metadata": {},
     "output_type": "execute_result"
    }
   ],
   "source": [
    "r_2 #what each row list looks like now"
   ]
  },
  {
   "cell_type": "code",
   "execution_count": 28,
   "metadata": {},
   "outputs": [
    {
     "data": {
      "text/plain": [
       "['Rank Title Domestic Gross (Weekend) Worldwide Gross (Cume) Week # Percentage Change Budget',\n",
       " 'Rank Title Domestic Gross (Weekend) Worldwide Gross (Cume) Week # Percentage Change Budget',\n",
       " 'Rank Title Domestic Gross (Weekend) Worldwide Gross (Cume) Week # Percentage Change Budget',\n",
       " 'Rank Title Domestic Gross (Weekend) Worldwide Gross (Cume) Week # Percentage Change Budget',\n",
       " 'Rank Title Domestic Gross (Weekend) Worldwide Gross (Cume) Week # Percentage Change Budget',\n",
       " 'Rank Title Domestic Gross (Weekend) Worldwide Gross (Cume) Week # Percentage Change Budget',\n",
       " 'Rank Title Domestic Gross (Weekend) Worldwide Gross (Cume) Week # Percentage Change Budget',\n",
       " 'Rank Title Domestic Gross (Weekend) Worldwide Gross (Cume) Week # Percentage Change Budget',\n",
       " 'Rank Title Domestic Gross (Weekend) Worldwide Gross (Cume) Week # Percentage Change Budget',\n",
       " 'Rank Title Domestic Gross (Weekend) Worldwide Gross (Cume) Week # Percentage Change Budget',\n",
       " 'Rank Title Domestic Gross (Weekend) Worldwide Gross (Cume) Week # Percentage Change Budget',\n",
       " 'Rank Title Domestic Gross (Weekend) Worldwide Gross (Cume) Week # Percentage Change Budget',\n",
       " 'Rank Title Domestic Gross (Weekend) Worldwide Gross (Cume) Week # Percentage Change Budget',\n",
       " 'Rank Title Domestic Gross (Weekend) Worldwide Gross (Cume) Week # Percentage Change Budget',\n",
       " 'Rank Title Domestic Gross (Weekend) Worldwide Gross (Cume) Week # Percentage Change Budget',\n",
       " 'Rank Title Domestic Gross (Weekend) Worldwide Gross (Cume) Week # Percentage Change Budget',\n",
       " 'Rank Title Domestic Gross (Weekend) Worldwide Gross (Cume) Week # Percentage Change Budget',\n",
       " 'Rank Title Domestic Gross (Weekend) Worldwide Gross (Cume) Week # Percentage Change Budget',\n",
       " 'Rank Title Domestic Gross (Weekend) Worldwide Gross (Cume) Week # Percentage Change Budget',\n",
       " 'Rank Title Domestic Gross (Weekend) Worldwide Gross (Cume) Week # Percentage Change Budget',\n",
       " 'Rank Title Domestic Gross (Weekend) Worldwide Gross (Cume) Week # Percentage Change Budget',\n",
       " 'Rank Title Domestic Gross (Weekend) Worldwide Gross (Cume) Week # Percentage Change Budget',\n",
       " 'Rank Title Domestic Gross (Weekend) Worldwide Gross (Cume) Week # Percentage Change Budget',\n",
       " 'Rank Title Domestic Gross (Weekend) Worldwide Gross (Cume) Week # Percentage Change (for three-day numbers) Budget',\n",
       " 'Rank Title Domestic Gross (Weekend) Worldwide Gross (Cume) Week # Percentage Change Budget',\n",
       " 'Rank Title Domestic Gross (Weekend) Worldwide Gross (Cume) Week # Percentage Change Budget',\n",
       " 'Rank Title Domestic Gross (Weekend) Worldwide Gross (Cume) Week # Percentage Change Budget',\n",
       " 'Rank Title Domestic Gross (Weekend) Worldwide Gross (Cume) Week # Percentage Change Budget',\n",
       " 'Rank Title Domestic Gross (Weekend) Worldwide Gross (Cume) Week # Percentage Change Budget',\n",
       " 'Rank Title Domestic Gross (Weekend) Worldwide Gross (Cume) Week # Percentage Change Budget',\n",
       " 'Rank Title Domestic Gross (Weekend) Worldwide Gross (Cume) Week # Percentage Change Budget',\n",
       " 'Rank Title Domestic Gross (Weekend) Worldwide Gross (Cume) Week # Percentage Change Budget',\n",
       " 'Rank Title Domestic Gross (Weekend) Worldwide Gross (Cume) Week # Percentage Change Budget',\n",
       " 'Rank Title Domestic Gross (Weekend) Worldwide Gross (Cume) Week # Percentage Change Budget',\n",
       " 'Rank Title Domestic Gross (Weekend) Worldwide Gross (Cume) Week # Percentage Change Budget',\n",
       " 'Rank Title Domestic Gross (Weekend) Worldwide Gross (Cume) Week # Percentage Change Budget',\n",
       " 'Rank Title Domestic Gross (Weekend) Worldwide Gross (Cume) Week # Percentage Change Budget',\n",
       " 'Rank Title Domestic Gross (Weekend) Worldwide Gross (Cume) Week # Percentage Change Budget',\n",
       " 'Rank Title Domestic Gross (Weekend) Worldwide Gross (Cume) Week # Percentage Change Budget',\n",
       " 'Rank Title Domestic Gross (Weekend) Worldwide Gross (Cume) Week # Percentage Change Budget',\n",
       " 'Rank Title Domestic Gross (Weekend) Worldwide Gross (Cume) Week # Percentage Change Budget',\n",
       " 'Rank Title Domestic Gross (Weekend) Worldwide Gross (Cume) Week # Percentage Change Budget',\n",
       " 'Rank Title Domestic Gross (Weekend) Worldwide Gross (Cume) Week # Percentage Change Budget',\n",
       " 'Rank Title Domestic Gross (Weekend) Worldwide Gross (Cume) Week # Percentage Change Budget',\n",
       " 'Rank Title Domestic Gross (Weekend) Worldwide Gross (Cume) Week # Percentage Change Budget',\n",
       " 'Rank Title Domestic Gross (Weekend) Worldwide Gross (Cume) Week # Percentage Change Budget']"
      ]
     },
     "execution_count": 28,
     "metadata": {},
     "output_type": "execute_result"
    }
   ],
   "source": [
    "row_1 #row_1 is just the header from the scraped tables"
   ]
  },
  {
   "cell_type": "markdown",
   "metadata": {},
   "source": [
    "#### 3c. Using scraped data to make column names for data frame"
   ]
  },
  {
   "cell_type": "code",
   "execution_count": 29,
   "metadata": {},
   "outputs": [
    {
     "data": {
      "text/plain": [
       "['Title',\n",
       " 'Domestic Gross (Weekend)',\n",
       " 'Worldwide Gross (Cume)',\n",
       " 'Week #',\n",
       " 'Budget']"
      ]
     },
     "execution_count": 29,
     "metadata": {},
     "output_type": "execute_result"
    }
   ],
   "source": [
    "r_1=row_1[0].split(' ') #chose index 0 arbitrarily since row_1 is constant\n",
    "r_1\n",
    "cols=[]\n",
    "cols.append(r_1[1])\n",
    "cols.append(r_1[2]+\" \" +r_1[3] +' '+r_1[4])\n",
    "cols.append(r_1[5]+\" \" +r_1[6] +' '+r_1[7])\n",
    "cols.append(r_1[-5]+' '+r_1[-4])\n",
    "cols.append(r_1[-1])\n",
    "cols #making column list for dataframe"
   ]
  },
  {
   "cell_type": "code",
   "execution_count": 30,
   "metadata": {},
   "outputs": [
    {
     "data": {
      "text/plain": [
       "['Rank',\n",
       " 'Title',\n",
       " 'Domestic',\n",
       " 'Gross',\n",
       " '(Weekend)',\n",
       " 'Worldwide',\n",
       " 'Gross',\n",
       " '(Cume)',\n",
       " 'Week',\n",
       " '#',\n",
       " 'Percentage',\n",
       " 'Change',\n",
       " 'Budget']"
      ]
     },
     "execution_count": 30,
     "metadata": {},
     "output_type": "execute_result"
    }
   ],
   "source": [
    "r_1 #what row_1 looks like after formatting"
   ]
  },
  {
   "cell_type": "code",
   "execution_count": 31,
   "metadata": {},
   "outputs": [
    {
     "data": {
      "text/plain": [
       "['233,700,000', '1', 'N/A', '']"
      ]
     },
     "execution_count": 31,
     "metadata": {},
     "output_type": "execute_result"
    }
   ],
   "source": [
    "r_2[0][2].split(' ') #testing how to seperate num of weeks "
   ]
  },
  {
   "cell_type": "code",
   "execution_count": 32,
   "metadata": {},
   "outputs": [
    {
     "data": {
      "text/plain": [
       "'1'"
      ]
     },
     "execution_count": 32,
     "metadata": {},
     "output_type": "execute_result"
    }
   ],
   "source": [
    "r_2[1][2].split(' ')[1] #now will use this formula in a loop"
   ]
  },
  {
   "cell_type": "markdown",
   "metadata": {},
   "source": [
    "#### 3d. Collecting Number of Weeks since Release using for loop"
   ]
  },
  {
   "cell_type": "code",
   "execution_count": 33,
   "metadata": {},
   "outputs": [
    {
     "data": {
      "text/plain": [
       "46"
      ]
     },
     "execution_count": 33,
     "metadata": {},
     "output_type": "execute_result"
    }
   ],
   "source": [
    "week_num_2=[]\n",
    "week_num_3=[]\n",
    "week_num_4=[]\n",
    "week_num_5=[]\n",
    "for i in range(len(r_2)):\n",
    "    week_num_2.append(r_2[i][2].split(' ')[1])\n",
    "    week_num_3.append(r_3[i][2].split(' ')[1])\n",
    "    week_num_4.append(r_4[i][2].split(' ')[1])\n",
    "    week_num_5.append(r_5[i][2].split(' ')[1])\n",
    "len(week_num_2) #making sure that list length is accurate "
   ]
  },
  {
   "cell_type": "code",
   "execution_count": 34,
   "metadata": {},
   "outputs": [
    {
     "data": {
      "text/plain": [
       "['2',\n",
       " '4',\n",
       " '1',\n",
       " '1',\n",
       " '8',\n",
       " '3',\n",
       " '1',\n",
       " '1',\n",
       " '2',\n",
       " '3',\n",
       " '1',\n",
       " '1',\n",
       " '2',\n",
       " '2',\n",
       " '1',\n",
       " '4',\n",
       " '2',\n",
       " '4',\n",
       " '1',\n",
       " '2',\n",
       " '1',\n",
       " '1',\n",
       " '4',\n",
       " '1',\n",
       " '2',\n",
       " '2',\n",
       " '1',\n",
       " '4',\n",
       " '3',\n",
       " '2',\n",
       " '1',\n",
       " '1',\n",
       " '2',\n",
       " '1',\n",
       " '4',\n",
       " '3',\n",
       " '2',\n",
       " '3',\n",
       " '1',\n",
       " '2',\n",
       " '1',\n",
       " '2',\n",
       " '4',\n",
       " '3',\n",
       " '2',\n",
       " '2']"
      ]
     },
     "execution_count": 34,
     "metadata": {},
     "output_type": "execute_result"
    }
   ],
   "source": [
    "week_num_3 #checking to make sure loop was performed correctly"
   ]
  },
  {
   "cell_type": "code",
   "execution_count": 35,
   "metadata": {},
   "outputs": [
    {
     "data": {
      "text/plain": [
       "46"
      ]
     },
     "execution_count": 35,
     "metadata": {},
     "output_type": "execute_result"
    }
   ],
   "source": [
    "len(r_6)  #had some issues with length of row 6 so this was from a testign phase"
   ]
  },
  {
   "cell_type": "code",
   "execution_count": 36,
   "metadata": {},
   "outputs": [],
   "source": [
    "num_weeks_6=[]\n",
    "r_6[17][2]='N/A N/A N/A ' #was all blank when scraped\n",
    "for i in range(len(r_6)):#thus loop was not working before so the above line is to fix\n",
    "  num_weeks_6.append(r_6[i][2].split(' ')[1])\n",
    "\n"
   ]
  },
  {
   "cell_type": "code",
   "execution_count": 37,
   "metadata": {},
   "outputs": [
    {
     "name": "stdout",
     "output_type": "stream",
     "text": [
      "46 46\n"
     ]
    }
   ],
   "source": [
    "print(len(num_weeks_6),len(week_num_2)) #making sure lists'length is accurate"
   ]
  },
  {
   "cell_type": "code",
   "execution_count": 38,
   "metadata": {},
   "outputs": [
    {
     "name": "stdout",
     "output_type": "stream",
     "text": [
      "['Title', 'Domestic Gross (Weekend)', 'Worldwide Gross (Cume)', 'Week #', 'Budget']\n",
      "46 46 46 46 46\n"
     ]
    },
    {
     "data": {
      "text/plain": [
       "'356M'"
      ]
     },
     "execution_count": 38,
     "metadata": {},
     "output_type": "execute_result"
    }
   ],
   "source": [
    "print(cols) #checking column list accuracy \n",
    "print(len(r_2),len(r_3),len(r_4),len(r_5),len(r_6)) #making sure row lists length is good\n",
    "r_2[3][-1].split(' ')[0] #experimenting  on how to exclude budget info"
   ]
  },
  {
   "cell_type": "markdown",
   "metadata": {},
   "source": [
    "#### 3e. Collecting distinct data into large lists "
   ]
  },
  {
   "cell_type": "code",
   "execution_count": 39,
   "metadata": {},
   "outputs": [
    {
     "name": "stdout",
     "output_type": "stream",
     "text": [
      "Incredibles 2 231,500,000 nan ['1 Incredibles 2 ', '180,000,000 ', '231,500,000 1 N/A UNK']\n"
     ]
    }
   ],
   "source": [
    "#Now to make all desired info into seperate lists,row by row (each cell is a new row)\n",
    "#try on row 2 elements\n",
    "Title=[]\n",
    "Domestic=[]\n",
    "World=[]\n",
    "Budget=[]\n",
    "for i in range(len(r_2)):\n",
    "    Title.append(r_2[i][0][2:].strip(' '))\n",
    "    Domestic.append(r_2[i][1].strip(' '))\n",
    "    World.append(r_2[i][2].split(' ')[0])\n",
    "    Budget.append(r_2[i][-1].split(' ')[0])\n",
    "#checking to make sure eveything matches    \n",
    "#Budget[-1] is an exception so I'll fix it\n",
    "Budget[-1]=np.nan\n",
    "print(Title[-1],World[-1],Budget[-1],r_2[-1])#making sure it is fixed"
   ]
  },
  {
   "cell_type": "code",
   "execution_count": 40,
   "metadata": {},
   "outputs": [],
   "source": [
    "#add row 3\n",
    "for i in range(len(r_3)):\n",
    "    Title.append(r_3[i][0][2:].strip(' '))\n",
    "    Domestic.append(r_3[i][1].strip(' '))\n",
    "    World.append(r_3[i][2].split(' ')[0])\n",
    "    Budget.append(r_3[i][-1].split(' ')[0])"
   ]
  },
  {
   "cell_type": "code",
   "execution_count": 41,
   "metadata": {},
   "outputs": [],
   "source": [
    "#add row 4\n",
    "for i in range(len(r_4)):\n",
    "    Title.append(r_4[i][0][2:].strip(' '))\n",
    "    Domestic.append(r_4[i][1].strip(' '))\n",
    "    World.append(r_4[i][2].split(' ')[0])\n",
    "    Budget.append(r_4[i][-1].split(' ')[0])"
   ]
  },
  {
   "cell_type": "code",
   "execution_count": 42,
   "metadata": {},
   "outputs": [],
   "source": [
    "#add row 5\n",
    "for i in range(len(r_5)):\n",
    "    Title.append(r_5[i][0][2:].strip(' '))\n",
    "    Domestic.append(r_5[i][1].strip(' '))\n",
    "    World.append(r_5[i][2].split(' ')[0])\n",
    "    Budget.append(r_5[i][-1].split(' ')[0])"
   ]
  },
  {
   "cell_type": "code",
   "execution_count": 43,
   "metadata": {},
   "outputs": [
    {
     "name": "stdout",
     "output_type": "stream",
     "text": [
      "230 230 230 230\n"
     ]
    }
   ],
   "source": [
    "#add row 6\n",
    "for i in range(len(r_6)):\n",
    "    Title.append(r_4[i][0][2:].strip(' '))\n",
    "    Domestic.append(r_4[i][1].strip(' '))\n",
    "    World.append(r_4[i][2].split(' ')[0])\n",
    "    Budget.append(r_4[i][-1].split(' ')[0])\n",
    "print(len(Title),len(Domestic),len(World),len(Budget))"
   ]
  },
  {
   "cell_type": "code",
   "execution_count": 44,
   "metadata": {
    "scrolled": false
   },
   "outputs": [],
   "source": [
    "#need to add number of weeks column\n",
    "number_of_weeks=[]\n",
    "number_of_weeks.extend(week_num_2)\n",
    "number_of_weeks.extend(week_num_3)\n",
    "number_of_weeks.extend(week_num_4)\n",
    "number_of_weeks.extend(week_num_5)\n",
    "number_of_weeks.extend(num_weeks_6)\n"
   ]
  },
  {
   "cell_type": "code",
   "execution_count": 45,
   "metadata": {},
   "outputs": [
    {
     "data": {
      "text/plain": [
       "230"
      ]
     },
     "execution_count": 45,
     "metadata": {},
     "output_type": "execute_result"
    }
   ],
   "source": [
    "len(number_of_weeks)\n",
    "#Matches other list's length, all good"
   ]
  },
  {
   "cell_type": "code",
   "execution_count": 46,
   "metadata": {},
   "outputs": [
    {
     "data": {
      "text/plain": [
       "['Title',\n",
       " 'Domestic Gross (Weekend)',\n",
       " 'Worldwide Gross (Cume)',\n",
       " 'Number of Weeks since Release',\n",
       " 'Budget']"
      ]
     },
     "execution_count": 46,
     "metadata": {},
     "output_type": "execute_result"
    }
   ],
   "source": [
    "cols[3]='Number of Weeks since Release' #making number of weeks column title easier to understand\n",
    "cols"
   ]
  },
  {
   "cell_type": "markdown",
   "metadata": {},
   "source": [
    "#### 3f. collecting all data into a master list which is a list of lists"
   ]
  },
  {
   "cell_type": "code",
   "execution_count": 47,
   "metadata": {},
   "outputs": [
    {
     "data": {
      "text/plain": [
       "230"
      ]
     },
     "execution_count": 47,
     "metadata": {},
     "output_type": "execute_result"
    }
   ],
   "source": [
    "#Time to put lists together and make dataframe\n",
    "Master_list=[]\n",
    "for i in range(len(Title)): #Title chosen arbitrarily, all lists have same length\n",
    "    Master_list.append((Title[i],Domestic[i],World[i],number_of_weeks[i],Budget[i]))\n",
    "len(Master_list) #should be 230"
   ]
  },
  {
   "cell_type": "code",
   "execution_count": 48,
   "metadata": {},
   "outputs": [
    {
     "data": {
      "text/plain": [
       "('Tag', '14,600,000', '16,000,000', '5', '28M')"
      ]
     },
     "execution_count": 48,
     "metadata": {},
     "output_type": "execute_result"
    }
   ],
   "source": [
    "Master_list[-1] #Example of a movie from Master_list as a tuple"
   ]
  },
  {
   "cell_type": "markdown",
   "metadata": {},
   "source": [
    "#### 4. DataFrame Creation"
   ]
  },
  {
   "cell_type": "code",
   "execution_count": 49,
   "metadata": {},
   "outputs": [
    {
     "data": {
      "text/html": [
       "<div>\n",
       "<style scoped>\n",
       "    .dataframe tbody tr th:only-of-type {\n",
       "        vertical-align: middle;\n",
       "    }\n",
       "\n",
       "    .dataframe tbody tr th {\n",
       "        vertical-align: top;\n",
       "    }\n",
       "\n",
       "    .dataframe thead th {\n",
       "        text-align: right;\n",
       "    }\n",
       "</style>\n",
       "<table border=\"1\" class=\"dataframe\">\n",
       "  <thead>\n",
       "    <tr style=\"text-align: right;\">\n",
       "      <th></th>\n",
       "      <th>Title</th>\n",
       "      <th>Domestic Gross (Weekend)</th>\n",
       "      <th>Worldwide Gross (Cume)</th>\n",
       "      <th>Number of Weeks since Release</th>\n",
       "      <th>Budget</th>\n",
       "    </tr>\n",
       "  </thead>\n",
       "  <tbody>\n",
       "    <tr>\n",
       "      <th>0</th>\n",
       "      <td>Aladdin (2019)</td>\n",
       "      <td>112,700,000</td>\n",
       "      <td>233,700,000</td>\n",
       "      <td>1</td>\n",
       "      <td>183M</td>\n",
       "    </tr>\n",
       "    <tr>\n",
       "      <th>1</th>\n",
       "      <td>John Wick: Chapter 3 - Parabellum</td>\n",
       "      <td>57,025,000</td>\n",
       "      <td>149,225,000</td>\n",
       "      <td>1</td>\n",
       "      <td>55M</td>\n",
       "    </tr>\n",
       "    <tr>\n",
       "      <th>2</th>\n",
       "      <td>Avengers: Endgame</td>\n",
       "      <td>63,054,000</td>\n",
       "      <td>2,485,499,739</td>\n",
       "      <td>3</td>\n",
       "      <td>356M</td>\n",
       "    </tr>\n",
       "    <tr>\n",
       "      <th>3</th>\n",
       "      <td>Avengers: Endgame</td>\n",
       "      <td>145,804,000</td>\n",
       "      <td>2,188,698,638</td>\n",
       "      <td>2</td>\n",
       "      <td>356M</td>\n",
       "    </tr>\n",
       "    <tr>\n",
       "      <th>4</th>\n",
       "      <td>Avengers: Endgame</td>\n",
       "      <td>350,000,000</td>\n",
       "      <td>1,209,000,000</td>\n",
       "      <td>1</td>\n",
       "      <td>356M</td>\n",
       "    </tr>\n",
       "  </tbody>\n",
       "</table>\n",
       "</div>"
      ],
      "text/plain": [
       "                               Title Domestic Gross (Weekend)  \\\n",
       "0                     Aladdin (2019)              112,700,000   \n",
       "1  John Wick: Chapter 3 - Parabellum               57,025,000   \n",
       "2                  Avengers: Endgame               63,054,000   \n",
       "3                  Avengers: Endgame              145,804,000   \n",
       "4                  Avengers: Endgame              350,000,000   \n",
       "\n",
       "  Worldwide Gross (Cume) Number of Weeks since Release Budget  \n",
       "0            233,700,000                             1   183M  \n",
       "1            149,225,000                             1    55M  \n",
       "2          2,485,499,739                             3   356M  \n",
       "3          2,188,698,638                             2   356M  \n",
       "4          1,209,000,000                             1   356M  "
      ]
     },
     "execution_count": 49,
     "metadata": {},
     "output_type": "execute_result"
    }
   ],
   "source": [
    "#Making Dataframe\n",
    "Reddit_data=pd.DataFrame(Master_list)\n",
    "Reddit_data.columns=cols #changing columns names to desired\n",
    "Reddit_data.head() #checking first 5 rows of new Dataframe"
   ]
  },
  {
   "cell_type": "code",
   "execution_count": 50,
   "metadata": {},
   "outputs": [
    {
     "data": {
      "text/plain": [
       "(230, 5)"
      ]
     },
     "execution_count": 50,
     "metadata": {},
     "output_type": "execute_result"
    }
   ],
   "source": [
    "Reddit_data.shape #shape is accurate (230 rows and 5 columns)"
   ]
  },
  {
   "cell_type": "markdown",
   "metadata": {},
   "source": [
    "#### 4a. Saving Dataframe for future Analysis"
   ]
  },
  {
   "cell_type": "code",
   "execution_count": 51,
   "metadata": {},
   "outputs": [],
   "source": [
    "#All looks good, time to save dataframe to csv.temporaily save to desktop\n",
    "Reddit_data=Reddit_data.to_csv(r'/Users/scogs/Desktop/Reddit_data.csv',index=False,header=True)"
   ]
  }
 ],
 "metadata": {
  "kernelspec": {
   "display_name": "Python 3",
   "language": "python",
   "name": "python3"
  },
  "language_info": {
   "codemirror_mode": {
    "name": "ipython",
    "version": 3
   },
   "file_extension": ".py",
   "mimetype": "text/x-python",
   "name": "python",
   "nbconvert_exporter": "python",
   "pygments_lexer": "ipython3",
   "version": "3.8.3"
  }
 },
 "nbformat": 4,
 "nbformat_minor": 4
}
