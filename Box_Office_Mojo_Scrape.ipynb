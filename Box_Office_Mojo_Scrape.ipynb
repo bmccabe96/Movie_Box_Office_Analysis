{
 "cells": [
  {
   "cell_type": "markdown",
   "metadata": {},
   "source": [
    "# Box Office Mojo Web Scrape and Initial Data Cleaning\n",
    "\n",
    "### This file will gather data from https://www.boxofficemojo.com and accomplish the following\n",
    "##### - Grabs all domestic level data for the years 2015-2020\n",
    "    Example:\n",
    "    https://www.boxofficemojo.com/year/2015/?sortDir=asc&grossesOption=totalGrosses&sort=releaseDate\n",
    "##### - Create a dataframe from the data grabbed above\n",
    "##### - For each movie grabbed above, grab movie specific data by navigating to the movie specific page on the site\n",
    "    Example:\n",
    "    https://www.boxofficemojo.com/release/rl947553793/?ref_=bo_yld_table_1\n",
    "##### - Join the movie specific data grabbed above with our main dataframe\n",
    "##### - Clean and format our dataframe to the point that EDA can be performed. Note that further data cleaning will be needed in a separate file as progresses\n",
    "##### - Export our dataframe as a csv so that we can perform EDA in a fresh jupyter notebook and do not have to run anymore requests"
   ]
  },
  {
   "cell_type": "code",
   "execution_count": 1,
   "metadata": {},
   "outputs": [],
   "source": [
    "# Import the library that will be needed in this notebook\n",
    "import requests\n",
    "from bs4 import BeautifulSoup \n",
    "import matplotlib.pyplot as plt\n",
    "import seaborn as sns\n",
    "import numpy as np\n",
    "import pandas as pd\n",
    "import time\n",
    "import datetime as dt\n",
    "%matplotlib inline"
   ]
  },
  {
   "cell_type": "code",
   "execution_count": 2,
   "metadata": {},
   "outputs": [],
   "source": [
    "# The purpose of this dictionary will be used later as a parameter to pass into the requests.get() function\n",
    "# This should help make my cpu seem more legit in a four loop that will make 4031 requests to the mojo website\n",
    "heads =  {\n",
    "    \"Accept\": \"text/html,application/xhtml+xml,application/xml;q=0.9,image/webp,image/apng,*/*;q=0.8,application/signed-exchange;v=b3;q=0.9\", \n",
    "    \"Accept-Encoding\": \"gzip, deflate, br\", \n",
    "    \"Accept-Language\": \"en-US,en;q=0.9\", \n",
    "    \"Host\": \"httpbin.org\", \n",
    "    \"Referer\": \"https://www.scraperapi.com/blog/5-tips-for-web-scraping/\", \n",
    "    \"Sec-Fetch-Dest\": \"document\", \n",
    "    \"Sec-Fetch-Mode\": \"navigate\", \n",
    "    \"Sec-Fetch-Site\": \"none\", \n",
    "    \"Upgrade-Insecure-Requests\": \"1\", \n",
    "    \"User-Agent\": \"Mozilla/5.0 (Macintosh; Intel Mac OS X 10_14_6) AppleWebKit/537.36 (KHTML, like Gecko) Chrome/84.0.4147.125 Safari/537.36\", \n",
    "    \"X-Amzn-Trace-Id\": \"Root=1-5f3a8c4e-59d257c4391e32fa489cf12a\"\n",
    "  }"
   ]
  },
  {
   "cell_type": "code",
   "execution_count": 3,
   "metadata": {},
   "outputs": [],
   "source": [
    "# Get 2015-2020 movie data from boxofficemojo\n",
    "# store each soup in a list of soup objects\n",
    "    # use str.format to update url for each call\n",
    "\n",
    "soup_array = []\n",
    "for year in range(2015, 2021):\n",
    "    url = 'https://www.boxofficemojo.com/year/{}/?sortDir=asc&sort=releaseDate&grossesOption=totalGrosses'.format(str(year))\n",
    "    time.sleep(np.random.randint(0,5))\n",
    "    page = requests.get(url)\n",
    "    soup_array.append(BeautifulSoup(page.content, 'html.parser'))"
   ]
  },
  {
   "cell_type": "code",
   "execution_count": 4,
   "metadata": {},
   "outputs": [],
   "source": [
    "# These are the html class strings needed to grab the associated data values\n",
    "columns_to_html_class_guide = [\n",
    "    ('Title', 'a-text-left mojo-field-type-release mojo-cell-wide'),\n",
    "    ('Gross', 'a-text-right mojo-field-type-money mojo-estimatable'),\n",
    "    ('Max_Theaters', 'a-text-right mojo-field-type-positive_integer'),\n",
    "    ('Opening_Weekend_Gross', 'a-text-right mojo-field-type-money'),\n",
    "    ('Opening_Weekend_Percent_of_Gross', 'a-text-right mojo-field-type-percent'),\n",
    "    ('Open_Date', 'a-text-left mojo-field-type-date mojo-sort-column a-nowrap'),\n",
    "    ('Distributor', 'a-text-left mojo-field-type-studio'),\n",
    "    ('Year', None)\n",
    "]"
   ]
  },
  {
   "cell_type": "code",
   "execution_count": 5,
   "metadata": {},
   "outputs": [],
   "source": [
    "#initialize an empty dictionary. Each Key/value pair is a list, where each specific value corresponds to a single movie\n",
    "movies = {\n",
    "    'Title': [],\n",
    "    'Gross': [],\n",
    "    'Max_Theaters': [],\n",
    "    'Opening_Weekend_Theaters': [],\n",
    "    'Opening_Weekend_Gross': [],\n",
    "    'Opening_Weekend_Percent_of_Gross' : [],\n",
    "    'Open_Date': [],\n",
    "    'Distributor': [],\n",
    "    'Year': []\n",
    "}\n"
   ]
  },
  {
   "cell_type": "code",
   "execution_count": 6,
   "metadata": {},
   "outputs": [],
   "source": [
    "# This dictionary will help me apply the appropriate year to each movie row down below...Value represents a \n",
    "# count of movies in that year from this website's data\n",
    "movies_per_year = {\n",
    "    '2015': 0,\n",
    "    '2016': 0,\n",
    "    '2017': 0,\n",
    "    '2018': 0,\n",
    "    '2019': 0,\n",
    "    '2020': 0\n",
    "}\n"
   ]
  },
  {
   "cell_type": "code",
   "execution_count": 7,
   "metadata": {},
   "outputs": [],
   "source": [
    "# loop through each year, and for each year, do the following\n",
    "    # keep track of a movie count, which will be added to the movies_per_year dict\n",
    "        # note i need to divide movie count by len(columns) at the end of each loop\n",
    "        # otherwise, i would have too many values by a factor of the len(columns)\n",
    "    # for each year, iterate through my columns_to_html_class_guide\n",
    "        # each iteration of the loop will handle a specific column of a data, for example, the title column\n",
    "    # for each column iteration, iterate through my soup array \n",
    "        # for each item in the soup array, i pass in the appropriate index value as well as the appropriate \n",
    "        # class parameter. The class parameter is the html string found in the second item of each \n",
    "        # tuple in columns_to_html_class_guide\n",
    "        \n",
    "\n",
    "for soup_index, year in enumerate(range(2015,2021)):\n",
    "    movie_count = 0\n",
    "    for column in columns_to_html_class_guide:\n",
    "        for item in soup_array[soup_index].find_all('td', class_=column[1]):\n",
    "            movies[column[0]] = movies[column[0]] + [item.text]\n",
    "            movie_count += 1\n",
    "    movies_per_year[str(year)] = movie_count / len(columns_to_html_class_guide) # \n"
   ]
  },
  {
   "cell_type": "code",
   "execution_count": 8,
   "metadata": {},
   "outputs": [],
   "source": [
    "# This will be an array with the same length as the total number of movies we pulled\n",
    "# Each item in the array will be the href link to the associated movie_details page\n",
    "href_array = []"
   ]
  },
  {
   "cell_type": "code",
   "execution_count": 9,
   "metadata": {},
   "outputs": [],
   "source": [
    "# This cell will run through our soup array and populate the href value for each row into the href array\n",
    "\n",
    "for soup in soup_array:\n",
    "    for item in soup.find_all('td', columns_to_html_class_guide[0][1]):\n",
    "        href_array.append(str(item.find_all(\"a\")).split('href=')[1].split(\">\")[0].strip('\\\"'))"
   ]
  },
  {
   "cell_type": "code",
   "execution_count": 10,
   "metadata": {},
   "outputs": [],
   "source": [
    "# This is to initialize empty lists for the values we plan to pull from the movie details page on the mojo website\n",
    "genres = []\n",
    "rates = []\n",
    "runtimes = []"
   ]
  },
  {
   "cell_type": "code",
   "execution_count": 11,
   "metadata": {},
   "outputs": [],
   "source": [
    "# This cell takes around 20-30 minutes to run. It loops through our href array, and for each value, makes a request\n",
    "# To the mojo website with the href appended to the end of the URL so that we get the appropriate movie's page\n",
    "# The for loop at the bottom checks the html of each page for a genre, a runtime, and a rating value. Not all\n",
    "# movie pages have all these values present. Because of this, we also attach the enumerated index value from our href\n",
    "# foor loop. This will come into play later when we need to join this data in a pandas dataframe that scraped all the \n",
    "# movies from the domestic movies page in mojo\n",
    "\n",
    "for index, href in enumerate(href_array):\n",
    "\n",
    "    href_url = 'https://www.boxofficemojo.com{}'.format(href)\n",
    "    time.sleep(np.random.randint(0,2)/100) # To randomize the requests so we don't get blocked    \n",
    "    href_page = requests.get(href_url, headers=heads)\n",
    "    href_soup = BeautifulSoup(href_page.content, 'html.parser')\n",
    "    href_items = href_soup.find_all('div', class_='a-section a-spacing-none')\n",
    "\n",
    "    for item in href_items:\n",
    "        spans = item.find_all(\"span\")\n",
    "        if spans[0].text == 'Genres':\n",
    "            genres.append((index, spans[1].text.split()))\n",
    "        if spans[0].text == 'Running Time':\n",
    "            runtimes.append((index, spans[1].text))\n",
    "        if spans[0].text.strip() == 'MPAA':\n",
    "            rates.append((index, spans[1].text))\n",
    "        "
   ]
  },
  {
   "cell_type": "code",
   "execution_count": 12,
   "metadata": {},
   "outputs": [],
   "source": [
    "## GET THESE INTO NP ARRAYS, WILL JOIN WITH OUR DF DATAFRAME LATER ON\n",
    "genres = np.array(genres)\n",
    "rates = np.array(rates)\n",
    "runtimes = np.array(runtimes)"
   ]
  },
  {
   "cell_type": "code",
   "execution_count": 13,
   "metadata": {},
   "outputs": [],
   "source": [
    "# NEED TO ADD ALL ODD INDEXES OF MAX_THEATERS TO OPENING_WEEKEND_THEATERS\n",
    "    # basically, the html to pull 'Max Theaters' and 'Opening # Theaters' is the same html class structure\n",
    "    # this was the easiest / first way i thought to easily distinguish the two\n",
    "    # each time soup is called, it pulled first a value for max theater (comes first in the html code) and then a \n",
    "    # value for the opening_#_theaters...so, can easily split by even/odd indexing\n",
    "new_max = []\n",
    "new_open = []\n",
    "for i, item in enumerate(movies['Max_Theaters']):\n",
    "    if i % 2 == 0:\n",
    "        new_max.append(item)\n",
    "    else:\n",
    "        new_open.append(item)"
   ]
  },
  {
   "cell_type": "code",
   "execution_count": 14,
   "metadata": {},
   "outputs": [],
   "source": [
    "# This cell takes what we did above and assigns the proper values as seen on the website to max theaters and opening\n",
    "# weekend theaters\n",
    "movies['Max_Theaters'] = new_max\n",
    "movies['Opening_Weekend_Theaters'] = new_open"
   ]
  },
  {
   "cell_type": "code",
   "execution_count": 15,
   "metadata": {},
   "outputs": [],
   "source": [
    "# This cell will populate the appropriate year into our dictionary of movies. It uses the movies_per_year variable\n",
    "# determined in our initial forloop to get the movie data \n",
    "\n",
    "for key, value in movies_per_year.items():\n",
    "    movies['Year'] = movies['Year'] + ((key+' ')*int(value)).split()"
   ]
  },
  {
   "cell_type": "code",
   "execution_count": 16,
   "metadata": {},
   "outputs": [
    {
     "name": "stdout",
     "output_type": "stream",
     "text": [
      "Title: 4035 items\n",
      "Gross: 4035 items\n",
      "Max_Theaters: 4035 items\n",
      "Opening_Weekend_Theaters: 4035 items\n",
      "Opening_Weekend_Gross: 4035 items\n",
      "Opening_Weekend_Percent_of_Gross: 4035 items\n",
      "Open_Date: 4035 items\n",
      "Distributor: 4035 items\n",
      "Year: 4035 items\n"
     ]
    }
   ],
   "source": [
    "# verify all items in dictionary have same length \n",
    "for key, value in movies.items():\n",
    "    print('{}: {} items'.format(key, len(value)))"
   ]
  },
  {
   "cell_type": "code",
   "execution_count": 17,
   "metadata": {},
   "outputs": [],
   "source": [
    "# CREATE OUR DATAFRAME \n",
    "df = pd.DataFrame(movies)"
   ]
  },
  {
   "cell_type": "code",
   "execution_count": 18,
   "metadata": {
    "scrolled": true
   },
   "outputs": [],
   "source": [
    "# ADD GENRES\n",
    "genres_df = pd.DataFrame(genres, columns=['index','Genres']).set_index('index')\n",
    "df = df.merge(genres_df, how='left', left_on = df.index, right_on = genres_df.index)\n"
   ]
  },
  {
   "cell_type": "code",
   "execution_count": 19,
   "metadata": {
    "scrolled": true
   },
   "outputs": [
    {
     "name": "stdout",
     "output_type": "stream",
     "text": [
      "Int64Index([   0,    5,    8,   10,   15,   16,   18,   21,   23,   25,\n",
      "            ...\n",
      "            4017, 4018, 4019, 4021, 4023, 4025, 4026, 4029, 4030, 4031],\n",
      "           dtype='int64', name='index', length=1901)\n",
      "Int64Index([   0,    1,    2,    3,    4,    5,    6,    7,    8,    9,\n",
      "            ...\n",
      "            4025, 4026, 4027, 4028, 4029, 4030, 4031, 4032, 4033, 4034],\n",
      "           dtype='int64', length=4035)\n"
     ]
    }
   ],
   "source": [
    "# ADD RATINGS\n",
    "rating_df = pd.DataFrame(rates, columns = ['index', 'Rating'])\n",
    "rating_df.loc[:,'index'] = rating_df['index'].astype('int')\n",
    "rating_df.set_index('index', inplace=True)\n",
    "print(rating_df.index)\n",
    "print(df.index)\n",
    "df = df.join(rating_df)"
   ]
  },
  {
   "cell_type": "code",
   "execution_count": 20,
   "metadata": {},
   "outputs": [],
   "source": [
    "# ADD RUNTIMES\n",
    "runtimes_df = pd.DataFrame(runtimes, columns=['index','Runtime'])\n",
    "runtimes_df.loc[:,'index'] = runtimes_df['index'].astype('int')\n",
    "runtimes_df.set_index('index', inplace=True)\n",
    "df = df.join(runtimes_df)"
   ]
  },
  {
   "cell_type": "code",
   "execution_count": 21,
   "metadata": {},
   "outputs": [],
   "source": [
    "# Clean runtimes\n",
    "# Convert the object values to numerical values in minutes\n",
    "def runtimes_minutes(runtime):\n",
    "    time = 0\n",
    "    try:\n",
    "        runtime = runtime.split()\n",
    "        time = 60*int(runtime[0]) + int(runtime[2])\n",
    "    except:\n",
    "        time = 0\n",
    "    return time\n",
    "\n",
    "# ------------------------------------------------------------ function ended\n",
    "\n",
    "df.loc[:, 'Runtime'] = df['Runtime'].apply(runtimes_minutes)"
   ]
  },
  {
   "cell_type": "code",
   "execution_count": 23,
   "metadata": {},
   "outputs": [],
   "source": [
    "# Convert Gross column to float\n",
    "df.loc[:,'Gross'] = df['Gross'].apply(lambda x: float(x.strip('$').replace(',','')))"
   ]
  },
  {
   "cell_type": "code",
   "execution_count": 24,
   "metadata": {},
   "outputs": [],
   "source": [
    "#Clean Opening_Weekend_Gross column\n",
    "\n",
    "#replace '-'s w/ str(zero)\n",
    "df.loc[:, 'Opening_Weekend_Gross'] = df['Opening_Weekend_Gross'].apply(lambda x: '0' if '-' in x else x) \n",
    "#convert to floats\n",
    "df.loc[:,'Opening_Weekend_Gross'] = df['Opening_Weekend_Gross'].apply(lambda x: float(x.strip('$').replace(',','')))\n"
   ]
  },
  {
   "cell_type": "code",
   "execution_count": 25,
   "metadata": {},
   "outputs": [],
   "source": [
    "# same process as above. for theater columns, replace the '-' with a string of zero. then, replace all\n",
    "# values as ints (cant have have a theater!)\n",
    "\n",
    "df.loc[:, 'Max_Theaters'] = df['Max_Theaters'].apply(lambda x: '0' if '-' in x else x) \n",
    "df.loc[:, 'Opening_Weekend_Theaters'] = df['Opening_Weekend_Theaters'].apply(lambda x: '0' if '-' in x else x) \n",
    "\n",
    "df.loc[:,'Max_Theaters'] = df['Max_Theaters'].apply(lambda x: int(x.strip('$').replace(',','')))\n",
    "df.loc[:,'Opening_Weekend_Theaters'] = df['Opening_Weekend_Theaters'].apply(lambda x: int(x.strip('$').replace(',','')))\n"
   ]
  },
  {
   "cell_type": "code",
   "execution_count": 26,
   "metadata": {},
   "outputs": [],
   "source": [
    "#convert the opening_weekend_percent_of_gross to a float. \n",
    "# Will need to replace '-' with string zeros first. \n",
    "# then, will need to strip the '%' value\n",
    "# lastly, will need to strip the '<' values for the '<0.1' example\n",
    "df.loc[:, 'Opening_Weekend_Percent_of_Gross'] = df['Opening_Weekend_Percent_of_Gross'].apply(\n",
    "                                                lambda x: '0' if '-' in x else x) \n",
    "df.loc[:, 'Opening_Weekend_Percent_of_Gross'] = df['Opening_Weekend_Percent_of_Gross'].apply(\n",
    "                                                lambda x: x.strip('%').strip('<'))\n",
    "df.loc[:, 'Opening_Weekend_Percent_of_Gross'] = df['Opening_Weekend_Percent_of_Gross'].astype('float')"
   ]
  },
  {
   "cell_type": "code",
   "execution_count": 27,
   "metadata": {},
   "outputs": [],
   "source": [
    "# Now, condence the Year and the Open_Date into one column, then make sure its a dt.date object\n",
    "    # THIS METHOD WILL BE CALLED BELOW FOR OUR NEW DATE COLUMN \n",
    "\n",
    "def to_date(value):\n",
    "    months = {\n",
    "                'Jan': 1, 'Feb': 2, 'Mar': 3, 'Apr': 4, 'May': 5, 'Jun': 6, 'Jul': 7, 'Aug': 8, 'Sep': 9, \n",
    "                'Oct': 10, 'Nov': 11, 'Dec': 12\n",
    "                }\n",
    "    value = value.split()\n",
    "    return dt.date(int(value[2]), months[value[0]], int(value[1]))"
   ]
  },
  {
   "cell_type": "code",
   "execution_count": 28,
   "metadata": {},
   "outputs": [],
   "source": [
    "# make new column then call our method to clean it into a better type format\n",
    "\n",
    "df['Date'] = df['Open_Date'] + ' ' + df['Year']\n",
    "df.loc[:, 'Date'] = df['Date'].apply(to_date).astype('datetime64[ns]')"
   ]
  },
  {
   "cell_type": "code",
   "execution_count": 29,
   "metadata": {},
   "outputs": [],
   "source": [
    "# Now, drop the open_date and the year columns as we no longer need them\n",
    "df.drop(['Open_Date', 'Year'], axis=1, inplace=True)"
   ]
  },
  {
   "cell_type": "code",
   "execution_count": 30,
   "metadata": {},
   "outputs": [],
   "source": [
    "# We have two values of '\\n\\n' at the end of each row in Distributor. Let's drop those, then we are done cleaning\n",
    "df.loc[:, 'Distributor'] = df['Distributor'].apply(lambda x: x.rstrip('\\n\\n'))"
   ]
  },
  {
   "cell_type": "code",
   "execution_count": 31,
   "metadata": {
    "scrolled": false
   },
   "outputs": [
    {
     "name": "stdout",
     "output_type": "stream",
     "text": [
      "<class 'pandas.core.frame.DataFrame'>\n",
      "Int64Index: 4035 entries, 0 to 4034\n",
      "Data columns (total 12 columns):\n",
      " #   Column                            Non-Null Count  Dtype         \n",
      "---  ------                            --------------  -----         \n",
      " 0   key_0                             4035 non-null   int64         \n",
      " 1   Title                             4035 non-null   object        \n",
      " 2   Gross                             4035 non-null   float64       \n",
      " 3   Max_Theaters                      4035 non-null   int64         \n",
      " 4   Opening_Weekend_Theaters          4035 non-null   int64         \n",
      " 5   Opening_Weekend_Gross             4035 non-null   float64       \n",
      " 6   Opening_Weekend_Percent_of_Gross  4035 non-null   float64       \n",
      " 7   Distributor                       4035 non-null   object        \n",
      " 8   Genres                            3989 non-null   object        \n",
      " 9   Rating                            1901 non-null   object        \n",
      " 10  Runtime                           4035 non-null   int64         \n",
      " 11  Date                              4035 non-null   datetime64[ns]\n",
      "dtypes: datetime64[ns](1), float64(3), int64(4), object(4)\n",
      "memory usage: 569.8+ KB\n"
     ]
    }
   ],
   "source": [
    "df.info()"
   ]
  },
  {
   "cell_type": "code",
   "execution_count": 32,
   "metadata": {},
   "outputs": [],
   "source": [
    "df.drop('key_0', axis=1, inplace=True)"
   ]
  },
  {
   "cell_type": "code",
   "execution_count": 33,
   "metadata": {},
   "outputs": [],
   "source": [
    "df.to_csv('Box_Office_Mojo_Domestic_Box_Office_Chart.csv')"
   ]
  },
  {
   "cell_type": "code",
   "execution_count": 34,
   "metadata": {},
   "outputs": [
    {
     "data": {
      "text/html": [
       "<div>\n",
       "<style scoped>\n",
       "    .dataframe tbody tr th:only-of-type {\n",
       "        vertical-align: middle;\n",
       "    }\n",
       "\n",
       "    .dataframe tbody tr th {\n",
       "        vertical-align: top;\n",
       "    }\n",
       "\n",
       "    .dataframe thead th {\n",
       "        text-align: right;\n",
       "    }\n",
       "</style>\n",
       "<table border=\"1\" class=\"dataframe\">\n",
       "  <thead>\n",
       "    <tr style=\"text-align: right;\">\n",
       "      <th></th>\n",
       "      <th>Title</th>\n",
       "      <th>Gross</th>\n",
       "      <th>Max_Theaters</th>\n",
       "      <th>Opening_Weekend_Theaters</th>\n",
       "      <th>Opening_Weekend_Gross</th>\n",
       "      <th>Opening_Weekend_Percent_of_Gross</th>\n",
       "      <th>Distributor</th>\n",
       "      <th>Genres</th>\n",
       "      <th>Rating</th>\n",
       "      <th>Runtime</th>\n",
       "      <th>Date</th>\n",
       "    </tr>\n",
       "  </thead>\n",
       "  <tbody>\n",
       "    <tr>\n",
       "      <th>0</th>\n",
       "      <td>The Woman in Black 2: Angel of Death</td>\n",
       "      <td>26501323.0</td>\n",
       "      <td>2602</td>\n",
       "      <td>2602</td>\n",
       "      <td>15027415.0</td>\n",
       "      <td>56.7</td>\n",
       "      <td>Relativity Media</td>\n",
       "      <td>[Drama, Horror, Thriller]</td>\n",
       "      <td>PG-13</td>\n",
       "      <td>98</td>\n",
       "      <td>2015-01-02</td>\n",
       "    </tr>\n",
       "    <tr>\n",
       "      <th>1</th>\n",
       "      <td>The Search for General Tso</td>\n",
       "      <td>54275.0</td>\n",
       "      <td>13</td>\n",
       "      <td>2</td>\n",
       "      <td>9336.0</td>\n",
       "      <td>17.2</td>\n",
       "      <td>IFC Films</td>\n",
       "      <td>[Comedy, Documentary, History, Mystery]</td>\n",
       "      <td>NaN</td>\n",
       "      <td>71</td>\n",
       "      <td>2015-01-02</td>\n",
       "    </tr>\n",
       "    <tr>\n",
       "      <th>2</th>\n",
       "      <td>The Taking of Tiger Mountain</td>\n",
       "      <td>228984.0</td>\n",
       "      <td>13</td>\n",
       "      <td>7</td>\n",
       "      <td>50621.0</td>\n",
       "      <td>22.1</td>\n",
       "      <td>Well Go USA Entertainment</td>\n",
       "      <td>[Action, Adventure, Biography, History, War]</td>\n",
       "      <td>NaN</td>\n",
       "      <td>141</td>\n",
       "      <td>2015-01-02</td>\n",
       "    </tr>\n",
       "    <tr>\n",
       "      <th>3</th>\n",
       "      <td>Li'l Quinquin</td>\n",
       "      <td>7192.0</td>\n",
       "      <td>2</td>\n",
       "      <td>1</td>\n",
       "      <td>3204.0</td>\n",
       "      <td>44.5</td>\n",
       "      <td>Kino Lorber</td>\n",
       "      <td>[Comedy, Crime, Mystery]</td>\n",
       "      <td>NaN</td>\n",
       "      <td>206</td>\n",
       "      <td>2015-01-02</td>\n",
       "    </tr>\n",
       "    <tr>\n",
       "      <th>4</th>\n",
       "      <td>Trace Amounts</td>\n",
       "      <td>80735.0</td>\n",
       "      <td>7</td>\n",
       "      <td>0</td>\n",
       "      <td>0.0</td>\n",
       "      <td>0.0</td>\n",
       "      <td>GathrFilms</td>\n",
       "      <td>[Adventure, Documentary, Drama, History]</td>\n",
       "      <td>NaN</td>\n",
       "      <td>97</td>\n",
       "      <td>2015-01-02</td>\n",
       "    </tr>\n",
       "    <tr>\n",
       "      <th>...</th>\n",
       "      <td>...</td>\n",
       "      <td>...</td>\n",
       "      <td>...</td>\n",
       "      <td>...</td>\n",
       "      <td>...</td>\n",
       "      <td>...</td>\n",
       "      <td>...</td>\n",
       "      <td>...</td>\n",
       "      <td>...</td>\n",
       "      <td>...</td>\n",
       "      <td>...</td>\n",
       "    </tr>\n",
       "    <tr>\n",
       "      <th>4030</th>\n",
       "      <td>American Deep State</td>\n",
       "      <td>15269.0</td>\n",
       "      <td>3</td>\n",
       "      <td>3</td>\n",
       "      <td>15269.0</td>\n",
       "      <td>100.0</td>\n",
       "      <td>Strasson Group</td>\n",
       "      <td>[Documentary]</td>\n",
       "      <td>PG-13</td>\n",
       "      <td>139</td>\n",
       "      <td>2020-08-14</td>\n",
       "    </tr>\n",
       "    <tr>\n",
       "      <th>4031</th>\n",
       "      <td>The SpongeBob Movie: Sponge On The Run</td>\n",
       "      <td>865824.0</td>\n",
       "      <td>300</td>\n",
       "      <td>300</td>\n",
       "      <td>865824.0</td>\n",
       "      <td>100.0</td>\n",
       "      <td>Paramount Pictures</td>\n",
       "      <td>[Adventure, Animation, Comedy, Family]</td>\n",
       "      <td>PG</td>\n",
       "      <td>91</td>\n",
       "      <td>2020-08-14</td>\n",
       "    </tr>\n",
       "    <tr>\n",
       "      <th>4032</th>\n",
       "      <td>Spree</td>\n",
       "      <td>20480.0</td>\n",
       "      <td>33</td>\n",
       "      <td>33</td>\n",
       "      <td>20480.0</td>\n",
       "      <td>100.0</td>\n",
       "      <td>RLJE Films</td>\n",
       "      <td>[Comedy, Thriller]</td>\n",
       "      <td>NaN</td>\n",
       "      <td>93</td>\n",
       "      <td>2020-08-14</td>\n",
       "    </tr>\n",
       "    <tr>\n",
       "      <th>4033</th>\n",
       "      <td>In the Life of Music</td>\n",
       "      <td>897.0</td>\n",
       "      <td>1</td>\n",
       "      <td>1</td>\n",
       "      <td>897.0</td>\n",
       "      <td>100.0</td>\n",
       "      <td>Indican Pictures</td>\n",
       "      <td>[Drama, Family, History, Music, Romance, War]</td>\n",
       "      <td>NaN</td>\n",
       "      <td>92</td>\n",
       "      <td>2020-08-14</td>\n",
       "    </tr>\n",
       "    <tr>\n",
       "      <th>4034</th>\n",
       "      <td>Sputnik</td>\n",
       "      <td>11024.0</td>\n",
       "      <td>32</td>\n",
       "      <td>32</td>\n",
       "      <td>11024.0</td>\n",
       "      <td>100.0</td>\n",
       "      <td>IFC Films</td>\n",
       "      <td>[Drama, Horror, Sci-Fi, Thriller]</td>\n",
       "      <td>NaN</td>\n",
       "      <td>113</td>\n",
       "      <td>2020-08-14</td>\n",
       "    </tr>\n",
       "  </tbody>\n",
       "</table>\n",
       "<p>4035 rows × 11 columns</p>\n",
       "</div>"
      ],
      "text/plain": [
       "                                       Title       Gross  Max_Theaters  \\\n",
       "0       The Woman in Black 2: Angel of Death  26501323.0          2602   \n",
       "1                 The Search for General Tso     54275.0            13   \n",
       "2               The Taking of Tiger Mountain    228984.0            13   \n",
       "3                              Li'l Quinquin      7192.0             2   \n",
       "4                              Trace Amounts     80735.0             7   \n",
       "...                                      ...         ...           ...   \n",
       "4030                     American Deep State     15269.0             3   \n",
       "4031  The SpongeBob Movie: Sponge On The Run    865824.0           300   \n",
       "4032                                   Spree     20480.0            33   \n",
       "4033                    In the Life of Music       897.0             1   \n",
       "4034                                 Sputnik     11024.0            32   \n",
       "\n",
       "      Opening_Weekend_Theaters  Opening_Weekend_Gross  \\\n",
       "0                         2602             15027415.0   \n",
       "1                            2                 9336.0   \n",
       "2                            7                50621.0   \n",
       "3                            1                 3204.0   \n",
       "4                            0                    0.0   \n",
       "...                        ...                    ...   \n",
       "4030                         3                15269.0   \n",
       "4031                       300               865824.0   \n",
       "4032                        33                20480.0   \n",
       "4033                         1                  897.0   \n",
       "4034                        32                11024.0   \n",
       "\n",
       "      Opening_Weekend_Percent_of_Gross                Distributor  \\\n",
       "0                                 56.7           Relativity Media   \n",
       "1                                 17.2                  IFC Films   \n",
       "2                                 22.1  Well Go USA Entertainment   \n",
       "3                                 44.5                Kino Lorber   \n",
       "4                                  0.0                 GathrFilms   \n",
       "...                                ...                        ...   \n",
       "4030                             100.0             Strasson Group   \n",
       "4031                             100.0         Paramount Pictures   \n",
       "4032                             100.0                 RLJE Films   \n",
       "4033                             100.0           Indican Pictures   \n",
       "4034                             100.0                  IFC Films   \n",
       "\n",
       "                                             Genres Rating  Runtime       Date  \n",
       "0                         [Drama, Horror, Thriller]  PG-13       98 2015-01-02  \n",
       "1           [Comedy, Documentary, History, Mystery]    NaN       71 2015-01-02  \n",
       "2      [Action, Adventure, Biography, History, War]    NaN      141 2015-01-02  \n",
       "3                          [Comedy, Crime, Mystery]    NaN      206 2015-01-02  \n",
       "4          [Adventure, Documentary, Drama, History]    NaN       97 2015-01-02  \n",
       "...                                             ...    ...      ...        ...  \n",
       "4030                                  [Documentary]  PG-13      139 2020-08-14  \n",
       "4031         [Adventure, Animation, Comedy, Family]     PG       91 2020-08-14  \n",
       "4032                             [Comedy, Thriller]    NaN       93 2020-08-14  \n",
       "4033  [Drama, Family, History, Music, Romance, War]    NaN       92 2020-08-14  \n",
       "4034              [Drama, Horror, Sci-Fi, Thriller]    NaN      113 2020-08-14  \n",
       "\n",
       "[4035 rows x 11 columns]"
      ]
     },
     "execution_count": 34,
     "metadata": {},
     "output_type": "execute_result"
    }
   ],
   "source": [
    "df"
   ]
  },
  {
   "cell_type": "code",
   "execution_count": null,
   "metadata": {},
   "outputs": [],
   "source": []
  }
 ],
 "metadata": {
  "kernelspec": {
   "display_name": "Python 3",
   "language": "python",
   "name": "python3"
  },
  "language_info": {
   "codemirror_mode": {
    "name": "ipython",
    "version": 3
   },
   "file_extension": ".py",
   "mimetype": "text/x-python",
   "name": "python",
   "nbconvert_exporter": "python",
   "pygments_lexer": "ipython3",
   "version": "3.8.3"
  }
 },
 "nbformat": 4,
 "nbformat_minor": 4
}
