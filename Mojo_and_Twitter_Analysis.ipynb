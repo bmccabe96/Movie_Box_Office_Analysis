{
 "cells": [
  {
   "cell_type": "markdown",
   "metadata": {},
   "source": [
    "# Data Anlysis and Exploration\n",
    "\n",
    "## Utilizing Data From:\n",
    " - Box Office Mojo\n",
    " - Twitter"
   ]
  },
  {
   "cell_type": "markdown",
   "metadata": {},
   "source": [
    "## Import Libraries"
   ]
  },
  {
   "cell_type": "code",
   "execution_count": 13,
   "metadata": {},
   "outputs": [],
   "source": [
    "import pandas as pd\n",
    "import numpy as np\n",
    "import matplotlib.pyplot as plt\n",
    "import seaborn as sns\n",
    "%matplotlib inline"
   ]
  },
  {
   "cell_type": "markdown",
   "metadata": {},
   "source": [
    "## Import dataframe and get some high level information"
   ]
  },
  {
   "cell_type": "code",
   "execution_count": 14,
   "metadata": {},
   "outputs": [],
   "source": [
    "df = pd.read_csv(\"Mojo_Plus_IMDB_Data.csv\").drop(['Unnamed: 0', 'Unnamed: 0_y'], axis=1)\n",
    "df.drop_duplicates('Title', inplace=True) # drop duplicates \n",
    "df = df.reset_index()"
   ]
  },
  {
   "cell_type": "code",
   "execution_count": 15,
   "metadata": {},
   "outputs": [
    {
     "name": "stdout",
     "output_type": "stream",
     "text": [
      "<class 'pandas.core.frame.DataFrame'>\n",
      "RangeIndex: 4013 entries, 0 to 4012\n",
      "Data columns (total 22 columns):\n",
      " #   Column                            Non-Null Count  Dtype  \n",
      "---  ------                            --------------  -----  \n",
      " 0   index                             4013 non-null   int64  \n",
      " 1   Title                             4013 non-null   object \n",
      " 2   Gross                             4013 non-null   float64\n",
      " 3   Max_Theaters                      4013 non-null   int64  \n",
      " 4   Opening_Weekend_Theaters          4013 non-null   int64  \n",
      " 5   Opening_Weekend_Gross             4013 non-null   float64\n",
      " 6   Opening_Weekend_Percent_of_Gross  4013 non-null   float64\n",
      " 7   Distributor                       4013 non-null   object \n",
      " 8   Genres                            3968 non-null   object \n",
      " 9   Rating                            1891 non-null   object \n",
      " 10  Runtime                           4013 non-null   int64  \n",
      " 11  Date                              4013 non-null   object \n",
      " 12  title_lowercase                   4013 non-null   object \n",
      " 13  genre_ids                         1869 non-null   object \n",
      " 14  id                                1869 non-null   float64\n",
      " 15  original_language                 1869 non-null   object \n",
      " 16  original_title                    1869 non-null   object \n",
      " 17  popularity                        1869 non-null   float64\n",
      " 18  release_date                      1869 non-null   object \n",
      " 19  title                             1869 non-null   object \n",
      " 20  vote_average                      1869 non-null   float64\n",
      " 21  vote_count                        1869 non-null   float64\n",
      "dtypes: float64(7), int64(4), object(11)\n",
      "memory usage: 689.9+ KB\n"
     ]
    }
   ],
   "source": [
    "df.info()"
   ]
  },
  {
   "cell_type": "markdown",
   "metadata": {},
   "source": [
    "As we can see above, the columns that were merged in from IMDB have many missing values. This means that we could not find the movies we scraped from box office mojo in the IMDB dataset. This is likely due to nomenclature differences between the two sources in the title, and since we did not have the IMDB movie_ID, we had to creatively merge using the title. Still, 2388 movies is enough data to work with, and so when we analyze those columns we will be sure to analyze on this 2388 item subset dataframe."
   ]
  },
  {
   "cell_type": "code",
   "execution_count": 16,
   "metadata": {},
   "outputs": [
    {
     "data": {
      "text/html": [
       "<div>\n",
       "<style scoped>\n",
       "    .dataframe tbody tr th:only-of-type {\n",
       "        vertical-align: middle;\n",
       "    }\n",
       "\n",
       "    .dataframe tbody tr th {\n",
       "        vertical-align: top;\n",
       "    }\n",
       "\n",
       "    .dataframe thead th {\n",
       "        text-align: right;\n",
       "    }\n",
       "</style>\n",
       "<table border=\"1\" class=\"dataframe\">\n",
       "  <thead>\n",
       "    <tr style=\"text-align: right;\">\n",
       "      <th></th>\n",
       "      <th>index</th>\n",
       "      <th>Gross</th>\n",
       "      <th>Max_Theaters</th>\n",
       "      <th>Opening_Weekend_Theaters</th>\n",
       "      <th>Opening_Weekend_Gross</th>\n",
       "      <th>Opening_Weekend_Percent_of_Gross</th>\n",
       "      <th>Runtime</th>\n",
       "      <th>id</th>\n",
       "      <th>popularity</th>\n",
       "      <th>vote_average</th>\n",
       "      <th>vote_count</th>\n",
       "    </tr>\n",
       "  </thead>\n",
       "  <tbody>\n",
       "    <tr>\n",
       "      <th>count</th>\n",
       "      <td>4013.000000</td>\n",
       "      <td>4.013000e+03</td>\n",
       "      <td>4013.000000</td>\n",
       "      <td>4013.000000</td>\n",
       "      <td>4.013000e+03</td>\n",
       "      <td>4013.000000</td>\n",
       "      <td>4013.000000</td>\n",
       "      <td>1869.000000</td>\n",
       "      <td>1869.000000</td>\n",
       "      <td>1869.000000</td>\n",
       "      <td>1869.000000</td>\n",
       "    </tr>\n",
       "    <tr>\n",
       "      <th>mean</th>\n",
       "      <td>2336.689260</td>\n",
       "      <td>1.425692e+07</td>\n",
       "      <td>640.872165</td>\n",
       "      <td>543.210815</td>\n",
       "      <td>4.386573e+06</td>\n",
       "      <td>28.579716</td>\n",
       "      <td>103.483678</td>\n",
       "      <td>348635.771001</td>\n",
       "      <td>7.888841</td>\n",
       "      <td>6.334831</td>\n",
       "      <td>808.701980</td>\n",
       "    </tr>\n",
       "    <tr>\n",
       "      <th>std</th>\n",
       "      <td>1329.045222</td>\n",
       "      <td>5.486010e+07</td>\n",
       "      <td>1162.782507</td>\n",
       "      <td>1147.335852</td>\n",
       "      <td>1.801162e+07</td>\n",
       "      <td>25.305868</td>\n",
       "      <td>40.134253</td>\n",
       "      <td>104544.095692</td>\n",
       "      <td>7.815444</td>\n",
       "      <td>1.278785</td>\n",
       "      <td>1879.948278</td>\n",
       "    </tr>\n",
       "    <tr>\n",
       "      <th>min</th>\n",
       "      <td>0.000000</td>\n",
       "      <td>7.400000e+01</td>\n",
       "      <td>0.000000</td>\n",
       "      <td>0.000000</td>\n",
       "      <td>0.000000e+00</td>\n",
       "      <td>0.000000</td>\n",
       "      <td>0.000000</td>\n",
       "      <td>239.000000</td>\n",
       "      <td>0.600000</td>\n",
       "      <td>0.000000</td>\n",
       "      <td>1.000000</td>\n",
       "    </tr>\n",
       "    <tr>\n",
       "      <th>25%</th>\n",
       "      <td>1188.000000</td>\n",
       "      <td>2.484400e+04</td>\n",
       "      <td>6.000000</td>\n",
       "      <td>1.000000</td>\n",
       "      <td>3.761000e+03</td>\n",
       "      <td>5.800000</td>\n",
       "      <td>91.000000</td>\n",
       "      <td>290595.000000</td>\n",
       "      <td>1.795000</td>\n",
       "      <td>5.700000</td>\n",
       "      <td>8.000000</td>\n",
       "    </tr>\n",
       "    <tr>\n",
       "      <th>50%</th>\n",
       "      <td>2365.000000</td>\n",
       "      <td>1.675810e+05</td>\n",
       "      <td>36.000000</td>\n",
       "      <td>4.000000</td>\n",
       "      <td>2.024900e+04</td>\n",
       "      <td>25.500000</td>\n",
       "      <td>101.000000</td>\n",
       "      <td>352114.000000</td>\n",
       "      <td>6.382000</td>\n",
       "      <td>6.400000</td>\n",
       "      <td>79.000000</td>\n",
       "    </tr>\n",
       "    <tr>\n",
       "      <th>75%</th>\n",
       "      <td>3511.000000</td>\n",
       "      <td>1.918403e+06</td>\n",
       "      <td>570.000000</td>\n",
       "      <td>205.000000</td>\n",
       "      <td>3.096940e+05</td>\n",
       "      <td>44.400000</td>\n",
       "      <td>115.000000</td>\n",
       "      <td>426264.000000</td>\n",
       "      <td>10.836000</td>\n",
       "      <td>7.000000</td>\n",
       "      <td>603.000000</td>\n",
       "    </tr>\n",
       "    <tr>\n",
       "      <th>max</th>\n",
       "      <td>4538.000000</td>\n",
       "      <td>9.366622e+08</td>\n",
       "      <td>4802.000000</td>\n",
       "      <td>4725.000000</td>\n",
       "      <td>3.571150e+08</td>\n",
       "      <td>189.100000</td>\n",
       "      <td>1179.000000</td>\n",
       "      <td>585724.000000</td>\n",
       "      <td>80.773000</td>\n",
       "      <td>10.000000</td>\n",
       "      <td>20175.000000</td>\n",
       "    </tr>\n",
       "  </tbody>\n",
       "</table>\n",
       "</div>"
      ],
      "text/plain": [
       "             index         Gross  Max_Theaters  Opening_Weekend_Theaters  \\\n",
       "count  4013.000000  4.013000e+03   4013.000000               4013.000000   \n",
       "mean   2336.689260  1.425692e+07    640.872165                543.210815   \n",
       "std    1329.045222  5.486010e+07   1162.782507               1147.335852   \n",
       "min       0.000000  7.400000e+01      0.000000                  0.000000   \n",
       "25%    1188.000000  2.484400e+04      6.000000                  1.000000   \n",
       "50%    2365.000000  1.675810e+05     36.000000                  4.000000   \n",
       "75%    3511.000000  1.918403e+06    570.000000                205.000000   \n",
       "max    4538.000000  9.366622e+08   4802.000000               4725.000000   \n",
       "\n",
       "       Opening_Weekend_Gross  Opening_Weekend_Percent_of_Gross      Runtime  \\\n",
       "count           4.013000e+03                       4013.000000  4013.000000   \n",
       "mean            4.386573e+06                         28.579716   103.483678   \n",
       "std             1.801162e+07                         25.305868    40.134253   \n",
       "min             0.000000e+00                          0.000000     0.000000   \n",
       "25%             3.761000e+03                          5.800000    91.000000   \n",
       "50%             2.024900e+04                         25.500000   101.000000   \n",
       "75%             3.096940e+05                         44.400000   115.000000   \n",
       "max             3.571150e+08                        189.100000  1179.000000   \n",
       "\n",
       "                  id   popularity  vote_average    vote_count  \n",
       "count    1869.000000  1869.000000   1869.000000   1869.000000  \n",
       "mean   348635.771001     7.888841      6.334831    808.701980  \n",
       "std    104544.095692     7.815444      1.278785   1879.948278  \n",
       "min       239.000000     0.600000      0.000000      1.000000  \n",
       "25%    290595.000000     1.795000      5.700000      8.000000  \n",
       "50%    352114.000000     6.382000      6.400000     79.000000  \n",
       "75%    426264.000000    10.836000      7.000000    603.000000  \n",
       "max    585724.000000    80.773000     10.000000  20175.000000  "
      ]
     },
     "execution_count": 16,
     "metadata": {},
     "output_type": "execute_result"
    }
   ],
   "source": [
    "df.describe()"
   ]
  },
  {
   "cell_type": "code",
   "execution_count": 17,
   "metadata": {
    "scrolled": false
   },
   "outputs": [
    {
     "data": {
      "text/html": [
       "<div>\n",
       "<style scoped>\n",
       "    .dataframe tbody tr th:only-of-type {\n",
       "        vertical-align: middle;\n",
       "    }\n",
       "\n",
       "    .dataframe tbody tr th {\n",
       "        vertical-align: top;\n",
       "    }\n",
       "\n",
       "    .dataframe thead th {\n",
       "        text-align: right;\n",
       "    }\n",
       "</style>\n",
       "<table border=\"1\" class=\"dataframe\">\n",
       "  <thead>\n",
       "    <tr style=\"text-align: right;\">\n",
       "      <th></th>\n",
       "      <th>index</th>\n",
       "      <th>Title</th>\n",
       "      <th>Gross</th>\n",
       "      <th>Max_Theaters</th>\n",
       "      <th>Opening_Weekend_Theaters</th>\n",
       "      <th>Opening_Weekend_Gross</th>\n",
       "      <th>Opening_Weekend_Percent_of_Gross</th>\n",
       "      <th>Distributor</th>\n",
       "      <th>Genres</th>\n",
       "      <th>Rating</th>\n",
       "      <th>...</th>\n",
       "      <th>title_lowercase</th>\n",
       "      <th>genre_ids</th>\n",
       "      <th>id</th>\n",
       "      <th>original_language</th>\n",
       "      <th>original_title</th>\n",
       "      <th>popularity</th>\n",
       "      <th>release_date</th>\n",
       "      <th>title</th>\n",
       "      <th>vote_average</th>\n",
       "      <th>vote_count</th>\n",
       "    </tr>\n",
       "  </thead>\n",
       "  <tbody>\n",
       "    <tr>\n",
       "      <th>0</th>\n",
       "      <td>0</td>\n",
       "      <td>The Woman in Black 2: Angel of Death</td>\n",
       "      <td>26501323.0</td>\n",
       "      <td>2602</td>\n",
       "      <td>2602</td>\n",
       "      <td>15027415.0</td>\n",
       "      <td>56.7</td>\n",
       "      <td>Relativity Media</td>\n",
       "      <td>['Drama', 'Horror', 'Thriller']</td>\n",
       "      <td>PG-13</td>\n",
       "      <td>...</td>\n",
       "      <td>thewomaninblack2:angelofdeath</td>\n",
       "      <td>[53, 27, 18]</td>\n",
       "      <td>288158.0</td>\n",
       "      <td>en</td>\n",
       "      <td>The Woman in Black 2: Angel of Death</td>\n",
       "      <td>10.240</td>\n",
       "      <td>2015-01-02</td>\n",
       "      <td>The Woman in Black 2: Angel of Death</td>\n",
       "      <td>5.1</td>\n",
       "      <td>627.0</td>\n",
       "    </tr>\n",
       "    <tr>\n",
       "      <th>1</th>\n",
       "      <td>1</td>\n",
       "      <td>The Search for General Tso</td>\n",
       "      <td>54275.0</td>\n",
       "      <td>13</td>\n",
       "      <td>2</td>\n",
       "      <td>9336.0</td>\n",
       "      <td>17.2</td>\n",
       "      <td>IFC Films</td>\n",
       "      <td>['Comedy', 'Documentary', 'History', 'Mystery']</td>\n",
       "      <td>NaN</td>\n",
       "      <td>...</td>\n",
       "      <td>thesearchforgeneraltso</td>\n",
       "      <td>[99]</td>\n",
       "      <td>261041.0</td>\n",
       "      <td>en</td>\n",
       "      <td>The Search for General Tso</td>\n",
       "      <td>1.404</td>\n",
       "      <td>2014-04-20</td>\n",
       "      <td>The Search for General Tso</td>\n",
       "      <td>6.7</td>\n",
       "      <td>31.0</td>\n",
       "    </tr>\n",
       "    <tr>\n",
       "      <th>2</th>\n",
       "      <td>2</td>\n",
       "      <td>The Taking of Tiger Mountain</td>\n",
       "      <td>228984.0</td>\n",
       "      <td>13</td>\n",
       "      <td>7</td>\n",
       "      <td>50621.0</td>\n",
       "      <td>22.1</td>\n",
       "      <td>Well Go USA Entertainment</td>\n",
       "      <td>['Action', 'Adventure', 'Biography', 'History'...</td>\n",
       "      <td>NaN</td>\n",
       "      <td>...</td>\n",
       "      <td>thetakingoftigermountain</td>\n",
       "      <td>NaN</td>\n",
       "      <td>NaN</td>\n",
       "      <td>NaN</td>\n",
       "      <td>NaN</td>\n",
       "      <td>NaN</td>\n",
       "      <td>NaN</td>\n",
       "      <td>NaN</td>\n",
       "      <td>NaN</td>\n",
       "      <td>NaN</td>\n",
       "    </tr>\n",
       "  </tbody>\n",
       "</table>\n",
       "<p>3 rows × 22 columns</p>\n",
       "</div>"
      ],
      "text/plain": [
       "   index                                 Title       Gross  Max_Theaters  \\\n",
       "0      0  The Woman in Black 2: Angel of Death  26501323.0          2602   \n",
       "1      1            The Search for General Tso     54275.0            13   \n",
       "2      2          The Taking of Tiger Mountain    228984.0            13   \n",
       "\n",
       "   Opening_Weekend_Theaters  Opening_Weekend_Gross  \\\n",
       "0                      2602             15027415.0   \n",
       "1                         2                 9336.0   \n",
       "2                         7                50621.0   \n",
       "\n",
       "   Opening_Weekend_Percent_of_Gross                Distributor  \\\n",
       "0                              56.7           Relativity Media   \n",
       "1                              17.2                  IFC Films   \n",
       "2                              22.1  Well Go USA Entertainment   \n",
       "\n",
       "                                              Genres Rating  ...  \\\n",
       "0                    ['Drama', 'Horror', 'Thriller']  PG-13  ...   \n",
       "1    ['Comedy', 'Documentary', 'History', 'Mystery']    NaN  ...   \n",
       "2  ['Action', 'Adventure', 'Biography', 'History'...    NaN  ...   \n",
       "\n",
       "                 title_lowercase     genre_ids        id original_language  \\\n",
       "0  thewomaninblack2:angelofdeath  [53, 27, 18]  288158.0                en   \n",
       "1         thesearchforgeneraltso          [99]  261041.0                en   \n",
       "2       thetakingoftigermountain           NaN       NaN               NaN   \n",
       "\n",
       "                         original_title popularity release_date  \\\n",
       "0  The Woman in Black 2: Angel of Death     10.240   2015-01-02   \n",
       "1            The Search for General Tso      1.404   2014-04-20   \n",
       "2                                   NaN        NaN          NaN   \n",
       "\n",
       "                                  title vote_average vote_count  \n",
       "0  The Woman in Black 2: Angel of Death          5.1      627.0  \n",
       "1            The Search for General Tso          6.7       31.0  \n",
       "2                                   NaN          NaN        NaN  \n",
       "\n",
       "[3 rows x 22 columns]"
      ]
     },
     "execution_count": 17,
     "metadata": {},
     "output_type": "execute_result"
    }
   ],
   "source": [
    "df.head(3)"
   ]
  },
  {
   "cell_type": "markdown",
   "metadata": {},
   "source": [
    "## Question\n",
    "### What is the overall correlation of our data?"
   ]
  },
  {
   "cell_type": "code",
   "execution_count": 36,
   "metadata": {},
   "outputs": [
    {
     "data": {
      "image/png": "[encoded data removed]",
      "text/plain": [
       "<Figure size 432x288 with 2 Axes>"
      ]
     },
     "metadata": {
      "needs_background": "light"
     },
     "output_type": "display_data"
    }
   ],
   "source": [
    "sns.heatmap(df.corr(), cmap='coolwarm')\n",
    "plt.title('Movie Data Correlation Chart')\n",
    "#plt.show()\n",
    "plt.savefig('/Users/brianmccabe/Desktop/Movie_Correlation')"
   ]
  },
  {
   "cell_type": "markdown",
   "metadata": {},
   "source": [
    "This chart is useful to look at early on. It helps us pinpoint which data points correlate well with others. From looking at the chart below, we can see that meaningful correlations can be explored between revenue, theaters, popularity, etc. We plan to investigate some of these as we move forward in the notebook with our analysis."
   ]
  },
  {
   "cell_type": "markdown",
   "metadata": {},
   "source": [
    "## Question\n",
    "### How does the number of theaters available for a movie correlate with gross revenue?"
   ]
  },
  {
   "cell_type": "code",
   "execution_count": 18,
   "metadata": {
    "scrolled": true
   },
   "outputs": [
    {
     "name": "stdout",
     "output_type": "stream",
     "text": [
      "Correlation Coefficient: 0.6597482228927846\n"
     ]
    },
    {
     "data": {
      "image/png": "[encoded data removed]",
      "text/plain": [
       "<Figure size 432x288 with 1 Axes>"
      ]
     },
     "metadata": {
      "needs_background": "light"
     },
     "output_type": "display_data"
    }
   ],
   "source": [
    "sns.scatterplot(data=df, x='Max_Theaters', y='Gross')\n",
    "plt.title('Theaters vs Gross Revenue')\n",
    "#plt.show()\n",
    "plt.savefig('/Users/brianmccabe/Desktop/Theaters_vs_Gross')\n",
    "print('Correlation Coefficient: {}'.format(np.corrcoef(df['Max_Theaters'], df['Gross'])[0][1]))"
   ]
  },
  {
   "cell_type": "markdown",
   "metadata": {},
   "source": [
    "From the above, we can see that the number of theaters compared with the revenue is positively correlated. This is something Microsoft should keep in mind when working on their movie. Investing in more theater showtimes could yield positive results"
   ]
  },
  {
   "cell_type": "markdown",
   "metadata": {},
   "source": [
    "## Question\n",
    "### How does the number of theaters on opening weekend correlate with opening weekend gross revenue?"
   ]
  },
  {
   "cell_type": "code",
   "execution_count": 38,
   "metadata": {
    "scrolled": false
   },
   "outputs": [
    {
     "name": "stdout",
     "output_type": "stream",
     "text": [
      "Correlation Coefficient: 0.6582847049045177\n"
     ]
    },
    {
     "data": {
      "image/png": "[encoded data removed]",
      "text/plain": [
       "<Figure size 432x288 with 1 Axes>"
      ]
     },
     "metadata": {
      "needs_background": "light"
     },
     "output_type": "display_data"
    }
   ],
   "source": [
    "sns.scatterplot(data=df, x='Opening_Weekend_Theaters', y='Opening_Weekend_Gross')\n",
    "plt.title('Opening Theaters vs Opening Gross Revenue')\n",
    "#plt.show()\n",
    "plt.savefig('/Users/brianmccabe/Desktop/Opening__Theaters_vs_Gross')\n",
    "print('Correlation Coefficient: {}'.format(np.corrcoef(df['Opening_Weekend_Theaters'], df['Opening_Weekend_Gross'])[0][1]))"
   ]
  },
  {
   "cell_type": "markdown",
   "metadata": {},
   "source": [
    "From the above, we can see that the number of opening weekend theaters compared with the opening weekend revenue is positively correlated. This is another useful piece of information to microsoft, another indicator that theater count is important when concerning revenue forecasts. Let's explore the overall correlation between these four variables next."
   ]
  },
  {
   "cell_type": "markdown",
   "metadata": {},
   "source": [
    "## Question\n",
    "### How are gross, opening gross, max theaters, and opening weekend theaters all correlated?"
   ]
  },
  {
   "cell_type": "code",
   "execution_count": 27,
   "metadata": {},
   "outputs": [
    {
     "data": {
      "text/html": [
       "<div>\n",
       "<style scoped>\n",
       "    .dataframe tbody tr th:only-of-type {\n",
       "        vertical-align: middle;\n",
       "    }\n",
       "\n",
       "    .dataframe tbody tr th {\n",
       "        vertical-align: top;\n",
       "    }\n",
       "\n",
       "    .dataframe thead th {\n",
       "        text-align: right;\n",
       "    }\n",
       "</style>\n",
       "<table border=\"1\" class=\"dataframe\">\n",
       "  <thead>\n",
       "    <tr style=\"text-align: right;\">\n",
       "      <th></th>\n",
       "      <th>Gross</th>\n",
       "      <th>Opening_Weekend_Gross</th>\n",
       "      <th>Max_Theaters</th>\n",
       "      <th>Opening_Weekend_Theaters</th>\n",
       "    </tr>\n",
       "  </thead>\n",
       "  <tbody>\n",
       "    <tr>\n",
       "      <th>Gross</th>\n",
       "      <td>1.000000</td>\n",
       "      <td>0.964922</td>\n",
       "      <td>0.659748</td>\n",
       "      <td>0.653613</td>\n",
       "    </tr>\n",
       "    <tr>\n",
       "      <th>Opening_Weekend_Gross</th>\n",
       "      <td>0.964922</td>\n",
       "      <td>1.000000</td>\n",
       "      <td>0.638354</td>\n",
       "      <td>0.658285</td>\n",
       "    </tr>\n",
       "    <tr>\n",
       "      <th>Max_Theaters</th>\n",
       "      <td>0.659748</td>\n",
       "      <td>0.638354</td>\n",
       "      <td>1.000000</td>\n",
       "      <td>0.962027</td>\n",
       "    </tr>\n",
       "    <tr>\n",
       "      <th>Opening_Weekend_Theaters</th>\n",
       "      <td>0.653613</td>\n",
       "      <td>0.658285</td>\n",
       "      <td>0.962027</td>\n",
       "      <td>1.000000</td>\n",
       "    </tr>\n",
       "  </tbody>\n",
       "</table>\n",
       "</div>"
      ],
      "text/plain": [
       "                             Gross  Opening_Weekend_Gross  Max_Theaters  \\\n",
       "Gross                     1.000000               0.964922      0.659748   \n",
       "Opening_Weekend_Gross     0.964922               1.000000      0.638354   \n",
       "Max_Theaters              0.659748               0.638354      1.000000   \n",
       "Opening_Weekend_Theaters  0.653613               0.658285      0.962027   \n",
       "\n",
       "                          Opening_Weekend_Theaters  \n",
       "Gross                                     0.653613  \n",
       "Opening_Weekend_Gross                     0.658285  \n",
       "Max_Theaters                              0.962027  \n",
       "Opening_Weekend_Theaters                  1.000000  "
      ]
     },
     "execution_count": 27,
     "metadata": {},
     "output_type": "execute_result"
    }
   ],
   "source": [
    "df_gross_thea = df.copy()[['Gross', 'Opening_Weekend_Gross', 'Max_Theaters', 'Opening_Weekend_Theaters']]\n",
    "df_gross_thea.corr()"
   ]
  },
  {
   "cell_type": "code",
   "execution_count": 39,
   "metadata": {},
   "outputs": [
    {
     "data": {
      "image/png": "[encoded data removed]",
      "text/plain": [
       "<Figure size 432x288 with 2 Axes>"
      ]
     },
     "metadata": {
      "needs_background": "light"
     },
     "output_type": "display_data"
    }
   ],
   "source": [
    "sns.heatmap(df_gross_thea.corr(), cmap='coolwarm')\n",
    "plt.title('Revenues and Theaters Heatmap')\n",
    "#plt.show()\n",
    "plt.savefig('/Users/brianmccabe/Desktop/Gross_Theaters_Heatmap')"
   ]
  },
  {
   "cell_type": "markdown",
   "metadata": {},
   "source": [
    "These are all correlated. Apart from the information we received from the prior two graphs, there is one more piece of relevant information here. There is a very strong correlation between opening weekend gross revenue and overall gross revenue.\n",
    "\n",
    "Our advice to Micosoft here is to focus hard on the opening weekend, regardless of the kind of movie they release. Spend money on ads and make sure to promote the movie ahead of time so that the opening weekend is as good as possible."
   ]
  },
  {
   "cell_type": "markdown",
   "metadata": {},
   "source": [
    "## Question\n",
    "### What genre tends to do well?"
   ]
  },
  {
   "cell_type": "code",
   "execution_count": 357,
   "metadata": {},
   "outputs": [],
   "source": [
    "# The goal in the next few cells is to create a list of unique genres found in our dataset\n",
    "genres = []"
   ]
  },
  {
   "cell_type": "code",
   "execution_count": 358,
   "metadata": {},
   "outputs": [],
   "source": [
    "# This cell loops through and creates a huge list of genres, but containing dupes at first. We then create a set of\n",
    "# the list, and then convert back to a list\n",
    "i = 0\n",
    "for item in list(df['Genres']):\n",
    "    if type(item) == str:\n",
    "        list_item = item.strip('[\\']').split('\\', \\'')\n",
    "        genres = genres + list_item\n",
    "        i += 1\n",
    "    else:\n",
    "        continue\n",
    "    \n",
    "genres = list(set(genres))    "
   ]
  },
  {
   "cell_type": "code",
   "execution_count": 359,
   "metadata": {},
   "outputs": [],
   "source": [
    "# Create a copy of the main dataframe with just title, gross, and genres info\n",
    "df_genres = df[['Title', 'Gross', 'Genres']].copy()"
   ]
  },
  {
   "cell_type": "code",
   "execution_count": 360,
   "metadata": {},
   "outputs": [],
   "source": [
    "# Some genres are na, we don't need those rows\n",
    "null_genres_index = df_genres[df_genres['Genres'].isna() == True].index\n",
    "df_genres.drop(null_genres_index, inplace=True)\n",
    "\n",
    "\n",
    "# This line adds all columns as headers. Value is 1 for a movie if the genre is included in the \"Genres\" column,\n",
    "# and 0 if it is not. So if the genres column was ['Comedy', 'Action'] for a row, then that rows respective, new \"Comedy\"\n",
    "# and \"Action\" columns would populate with a 1. All other new column headers would be zero.\n",
    "\n",
    "for genre in genres:\n",
    "    df_genres[genre] = df_genres['Genres'].apply(lambda x: 1 if genre in x else 0)\n",
    "\n"
   ]
  },
  {
   "cell_type": "code",
   "execution_count": 361,
   "metadata": {},
   "outputs": [
    {
     "data": {
      "text/plain": [
       "12219134.023019634"
      ]
     },
     "execution_count": 361,
     "metadata": {},
     "output_type": "execute_result"
    }
   ],
   "source": [
    "# testing the new df\n",
    "df_genres[['Gross', 'Comedy']].groupby('Comedy').mean().iloc[0][0]"
   ]
  },
  {
   "cell_type": "code",
   "execution_count": 362,
   "metadata": {},
   "outputs": [],
   "source": [
    "#create a list of dictionaries that will be used to create a new dataframe to graph gross vs genre\n",
    "gross_by_genre = []\n",
    "for genre in genres:\n",
    "    gross = df_genres[['Gross', genre]].groupby(genre).mean().iloc[1][0]\n",
    "    gross_by_genre.append({\n",
    "        'Genre': genre,\n",
    "        'Gross': gross\n",
    "        })"
   ]
  },
  {
   "cell_type": "code",
   "execution_count": 363,
   "metadata": {},
   "outputs": [],
   "source": [
    "genre_gross_df = pd.DataFrame(gross_by_genre)"
   ]
  },
  {
   "cell_type": "code",
   "execution_count": 364,
   "metadata": {
    "scrolled": true
   },
   "outputs": [
    {
     "data": {
      "image/png": "[encoded data removed]",
      "text/plain": [
       "<Figure size 864x576 with 1 Axes>"
      ]
     },
     "metadata": {
      "needs_background": "light"
     },
     "output_type": "display_data"
    }
   ],
   "source": [
    "plt.figure(figsize=(12,8))\n",
    "sns.barplot(y='Genre', x='Gross', data=genre_gross_df)\n",
    "plt.title('Gross Revenue vs Genre')\n",
    "plt.savefig('/Users/brianmccabe/Desktop/Genres_vs_Gross')"
   ]
  },
  {
   "cell_type": "markdown",
   "metadata": {},
   "source": [
    "As we can see here from the past 5 years of movie data, adventure and sci fi movies are doing very well from a gross revenue standpoint. The numbers are almost certainly inflated from the regine of the Marvel movies, so that needs to be considered. Another point that needs to be considered is that sci fi movies likely have a higher cost of production, since the CGI and action scenes involve quite a lot of work. Though, that is not to say that an action movie can be low budget. \n",
    "\n",
    "Our advice to Microsoft here would be to make a movie with a genre that falls within the better half from the graph above. Adventure, scifi, action, comedy, animation, etc. Our other advice is to not make an adult film...for a number of reasons."
   ]
  },
  {
   "cell_type": "markdown",
   "metadata": {},
   "source": [
    "## Question\n",
    "###  How long of a movie and what should the target audience be?"
   ]
  },
  {
   "cell_type": "code",
   "execution_count": 365,
   "metadata": {},
   "outputs": [],
   "source": [
    "# drop null popularities since that column was from tmdb and has a lot of missing values\n",
    "null_popularity_index = df[df['popularity'].isna()].index"
   ]
  },
  {
   "cell_type": "code",
   "execution_count": 366,
   "metadata": {},
   "outputs": [],
   "source": [
    "df2 = df.drop(null_popularity_index).reset_index()\n"
   ]
  },
  {
   "cell_type": "code",
   "execution_count": 367,
   "metadata": {},
   "outputs": [
    {
     "data": {
      "text/plain": [
       "Index(['level_0', 'index', 'Title', 'Gross', 'Max_Theaters',\n",
       "       'Opening_Weekend_Theaters', 'Opening_Weekend_Gross',\n",
       "       'Opening_Weekend_Percent_of_Gross', 'Distributor', 'Genres', 'Rating',\n",
       "       'Runtime', 'Date', 'title_lowercase', 'genre_ids', 'id',\n",
       "       'original_language', 'original_title', 'popularity', 'release_date',\n",
       "       'title', 'vote_average', 'vote_count'],\n",
       "      dtype='object')"
      ]
     },
     "execution_count": 367,
     "metadata": {},
     "output_type": "execute_result"
    }
   ],
   "source": [
    "df2.columns"
   ]
  },
  {
   "cell_type": "code",
   "execution_count": 368,
   "metadata": {},
   "outputs": [],
   "source": [
    "# make our df a little smaller and easier to work with\n",
    "df2 = df2[['Title', 'Gross', 'Opening_Weekend_Percent_of_Gross', 'Rating', 'Runtime', 'popularity', 'vote_average', 'vote_count']]\n"
   ]
  },
  {
   "cell_type": "code",
   "execution_count": 369,
   "metadata": {},
   "outputs": [
    {
     "name": "stdout",
     "output_type": "stream",
     "text": [
      "93.0\n",
      "105.0\n"
     ]
    }
   ],
   "source": [
    "#determine what long, medium, and short are. Will use these values below\n",
    "print(np.percentile(df2['Runtime'], 33))\n",
    "print(np.percentile(df2['Runtime'], 66))"
   ]
  },
  {
   "cell_type": "code",
   "execution_count": 370,
   "metadata": {},
   "outputs": [],
   "source": [
    "# create a new categorical column called movie length\n",
    "df2['Movie_Length'] = df2['Runtime'].apply(lambda x: 'Long' if x > 109 else ('Medium' if (x<=109 and x>96) else 'Short'))"
   ]
  },
  {
   "cell_type": "code",
   "execution_count": 371,
   "metadata": {},
   "outputs": [],
   "source": [
    "# drop all nas\n",
    "df2 = df2.dropna()"
   ]
  },
  {
   "cell_type": "code",
   "execution_count": 372,
   "metadata": {
    "scrolled": false
   },
   "outputs": [
    {
     "data": {
      "image/png": "[encoded data removed]",
      "text/plain": [
       "<Figure size 1152x720 with 2 Axes>"
      ]
     },
     "metadata": {
      "needs_background": "light"
     },
     "output_type": "display_data"
    }
   ],
   "source": [
    "# Plot results for popularity\n",
    "\n",
    "fig_df2 = plt.figure(figsize=(16,10))\n",
    "fig_df2.suptitle('Rating and Length vs Popularity and Revenue', fontsize=16)\n",
    "\n",
    "ax1 = fig_df2.add_subplot(211)\n",
    "ax1.set_title('Rating vs Popularity split out by movie length')\n",
    "sns.barplot(data=df2, x='Rating', y='popularity', hue='Movie_Length', ax=ax1, errwidth=0)\n",
    "ax1.legend(loc='upper right')\n",
    "\n",
    "\n",
    "ax2 = fig_df2.add_subplot(212)\n",
    "ax2.set_title('Rating vs Gross Revenue split out by movie length')\n",
    "sns.barplot(data=df2, x='Rating', y='Gross', hue='Movie_Length', ax=ax2, errwidth=0)\n",
    "ax2.legend(loc='upper right')\n",
    "\n",
    "\n",
    "\n",
    "fig_df2.savefig('/Users/brianmccabe/Desktop/Popularity_Rating_Length')"
   ]
  },
  {
   "cell_type": "markdown",
   "metadata": {},
   "source": [
    "The results above can be analyzed to help determine the length of the movie and the maturity level of the movie.\n",
    "\n",
    "From both graphs, it is interesting to note that longer movies tend to do better both in terms of popularity and revenue when the movie is targeted at a more adult audience (PG13, PG, R). Howecver, for G rated movies, medium/shorter movies tend to do better. This could be due to the fact that many children that watch G rated movies likely have shorter attention spans than the average adult.\n",
    "\n",
    "Our recommendation to Microsoft is to make a long movie for any adult genre. If Microsoft wishes to make a G rated movie, then we recommend shortening the runtime.\n",
    "\n"
   ]
  },
  {
   "cell_type": "markdown",
   "metadata": {},
   "source": [
    "## Question - What genre movies get the most traffic on social media?\n",
    "\n",
    "### Twitter Analysis\n",
    "\n",
    "The below section will show aggregate twitter data (likes, retweets, replies), specifically the median, across movie genres. At the end of the section we will explain our findings. However, an important note is that this data is not to be heavily relied on by any means. The data coming in from twitter is not akin to real, statistical data from places like box office mojo or imdb. For this reason, all analysis in this section should be seen as supplemental and not used to based any important decisions on.\n"
   ]
  },
  {
   "cell_type": "code",
   "execution_count": 188,
   "metadata": {},
   "outputs": [],
   "source": [
    "twitter_df = pd.read_csv('twitter_movies.csv') # import dataset that was achieved from our twitter twint file"
   ]
  },
  {
   "cell_type": "code",
   "execution_count": 189,
   "metadata": {},
   "outputs": [
    {
     "data": {
      "text/html": [
       "<div>\n",
       "<style scoped>\n",
       "    .dataframe tbody tr th:only-of-type {\n",
       "        vertical-align: middle;\n",
       "    }\n",
       "\n",
       "    .dataframe tbody tr th {\n",
       "        vertical-align: top;\n",
       "    }\n",
       "\n",
       "    .dataframe thead th {\n",
       "        text-align: right;\n",
       "    }\n",
       "</style>\n",
       "<table border=\"1\" class=\"dataframe\">\n",
       "  <thead>\n",
       "    <tr style=\"text-align: right;\">\n",
       "      <th></th>\n",
       "      <th>Unnamed: 0</th>\n",
       "      <th>Movie</th>\n",
       "      <th>Likes</th>\n",
       "      <th>Retweets</th>\n",
       "      <th>Replies</th>\n",
       "    </tr>\n",
       "  </thead>\n",
       "  <tbody>\n",
       "    <tr>\n",
       "      <th>0</th>\n",
       "      <td>0</td>\n",
       "      <td>The Woman in Black 2: Angel of Death</td>\n",
       "      <td>1</td>\n",
       "      <td>0</td>\n",
       "      <td>0</td>\n",
       "    </tr>\n",
       "    <tr>\n",
       "      <th>1</th>\n",
       "      <td>1</td>\n",
       "      <td>The Search for General Tso</td>\n",
       "      <td>1</td>\n",
       "      <td>0</td>\n",
       "      <td>0</td>\n",
       "    </tr>\n",
       "    <tr>\n",
       "      <th>2</th>\n",
       "      <td>2</td>\n",
       "      <td>The Taking of Tiger Mountain</td>\n",
       "      <td>1</td>\n",
       "      <td>0</td>\n",
       "      <td>0</td>\n",
       "    </tr>\n",
       "    <tr>\n",
       "      <th>3</th>\n",
       "      <td>3</td>\n",
       "      <td>Li'l Quinquin</td>\n",
       "      <td>142</td>\n",
       "      <td>125</td>\n",
       "      <td>9</td>\n",
       "    </tr>\n",
       "    <tr>\n",
       "      <th>4</th>\n",
       "      <td>4</td>\n",
       "      <td>Trace Amounts</td>\n",
       "      <td>142</td>\n",
       "      <td>125</td>\n",
       "      <td>9</td>\n",
       "    </tr>\n",
       "  </tbody>\n",
       "</table>\n",
       "</div>"
      ],
      "text/plain": [
       "   Unnamed: 0                                 Movie  Likes  Retweets  Replies\n",
       "0           0  The Woman in Black 2: Angel of Death      1         0        0\n",
       "1           1            The Search for General Tso      1         0        0\n",
       "2           2          The Taking of Tiger Mountain      1         0        0\n",
       "3           3                         Li'l Quinquin    142       125        9\n",
       "4           4                         Trace Amounts    142       125        9"
      ]
     },
     "execution_count": 189,
     "metadata": {},
     "output_type": "execute_result"
    }
   ],
   "source": [
    "twitter_df.head()"
   ]
  },
  {
   "cell_type": "code",
   "execution_count": 190,
   "metadata": {},
   "outputs": [],
   "source": [
    "# create column to merge on and merge with the df_genres dataset we created above\n",
    "df_genres['Title_LC'] = df_genres['Title'].apply(lambda x: x.lower().replace(\" \",\"\"))\n",
    "twitter_df['Title_LC'] = twitter_df['Movie'].apply(lambda x: x.lower().replace(\" \",\"\"))"
   ]
  },
  {
   "cell_type": "code",
   "execution_count": 191,
   "metadata": {},
   "outputs": [],
   "source": [
    "twitter_df = twitter_df.merge(df_genres, how='left', on='Title_LC')"
   ]
  },
  {
   "cell_type": "code",
   "execution_count": 221,
   "metadata": {},
   "outputs": [
    {
     "data": {
      "text/plain": [
       "46"
      ]
     },
     "execution_count": 221,
     "metadata": {},
     "output_type": "execute_result"
    }
   ],
   "source": [
    "#testing what we'll eventually be showing\n",
    "twitter_df[['Likes', 'Comedy']].groupby('Comedy').median().iloc[1][0]"
   ]
  },
  {
   "cell_type": "code",
   "execution_count": 222,
   "metadata": {},
   "outputs": [
    {
     "data": {
      "text/plain": [
       "46"
      ]
     },
     "execution_count": 222,
     "metadata": {},
     "output_type": "execute_result"
    }
   ],
   "source": [
    "twitter_df[['Likes', 'Comedy']].groupby('Comedy').median().iloc[1][0]"
   ]
  },
  {
   "cell_type": "code",
   "execution_count": 224,
   "metadata": {},
   "outputs": [
    {
     "data": {
      "text/html": [
       "<div>\n",
       "<style scoped>\n",
       "    .dataframe tbody tr th:only-of-type {\n",
       "        vertical-align: middle;\n",
       "    }\n",
       "\n",
       "    .dataframe tbody tr th {\n",
       "        vertical-align: top;\n",
       "    }\n",
       "\n",
       "    .dataframe thead th {\n",
       "        text-align: right;\n",
       "    }\n",
       "</style>\n",
       "<table border=\"1\" class=\"dataframe\">\n",
       "  <thead>\n",
       "    <tr style=\"text-align: right;\">\n",
       "      <th></th>\n",
       "      <th>Likes</th>\n",
       "    </tr>\n",
       "    <tr>\n",
       "      <th>Comedy</th>\n",
       "      <th></th>\n",
       "    </tr>\n",
       "  </thead>\n",
       "  <tbody>\n",
       "    <tr>\n",
       "      <th>0.0</th>\n",
       "      <td>53</td>\n",
       "    </tr>\n",
       "    <tr>\n",
       "      <th>1.0</th>\n",
       "      <td>46</td>\n",
       "    </tr>\n",
       "  </tbody>\n",
       "</table>\n",
       "</div>"
      ],
      "text/plain": [
       "        Likes\n",
       "Comedy       \n",
       "0.0        53\n",
       "1.0        46"
      ]
     },
     "execution_count": 224,
     "metadata": {},
     "output_type": "execute_result"
    }
   ],
   "source": [
    "twitter_df[['Likes', 'Comedy']].groupby('Comedy').median()"
   ]
  },
  {
   "cell_type": "code",
   "execution_count": 180,
   "metadata": {},
   "outputs": [
    {
     "data": {
      "text/html": [
       "<div>\n",
       "<style scoped>\n",
       "    .dataframe tbody tr th:only-of-type {\n",
       "        vertical-align: middle;\n",
       "    }\n",
       "\n",
       "    .dataframe tbody tr th {\n",
       "        vertical-align: top;\n",
       "    }\n",
       "\n",
       "    .dataframe thead th {\n",
       "        text-align: right;\n",
       "    }\n",
       "</style>\n",
       "<table border=\"1\" class=\"dataframe\">\n",
       "  <thead>\n",
       "    <tr style=\"text-align: right;\">\n",
       "      <th></th>\n",
       "      <th>0</th>\n",
       "    </tr>\n",
       "  </thead>\n",
       "  <tbody>\n",
       "    <tr>\n",
       "      <th>Thriller</th>\n",
       "      <td>869</td>\n",
       "    </tr>\n",
       "    <tr>\n",
       "      <th>Action</th>\n",
       "      <td>706</td>\n",
       "    </tr>\n",
       "    <tr>\n",
       "      <th>Horror</th>\n",
       "      <td>373</td>\n",
       "    </tr>\n",
       "    <tr>\n",
       "      <th>History</th>\n",
       "      <td>343</td>\n",
       "    </tr>\n",
       "    <tr>\n",
       "      <th>Adventure</th>\n",
       "      <td>561</td>\n",
       "    </tr>\n",
       "    <tr>\n",
       "      <th>Adult</th>\n",
       "      <td>1</td>\n",
       "    </tr>\n",
       "    <tr>\n",
       "      <th>Family</th>\n",
       "      <td>350</td>\n",
       "    </tr>\n",
       "    <tr>\n",
       "      <th>Comedy</th>\n",
       "      <td>1158</td>\n",
       "    </tr>\n",
       "    <tr>\n",
       "      <th>Biography</th>\n",
       "      <td>516</td>\n",
       "    </tr>\n",
       "    <tr>\n",
       "      <th>Animation</th>\n",
       "      <td>260</td>\n",
       "    </tr>\n",
       "    <tr>\n",
       "      <th>Fantasy</th>\n",
       "      <td>414</td>\n",
       "    </tr>\n",
       "    <tr>\n",
       "      <th>Crime</th>\n",
       "      <td>509</td>\n",
       "    </tr>\n",
       "    <tr>\n",
       "      <th>Mystery</th>\n",
       "      <td>408</td>\n",
       "    </tr>\n",
       "    <tr>\n",
       "      <th>News</th>\n",
       "      <td>20</td>\n",
       "    </tr>\n",
       "    <tr>\n",
       "      <th>Sport</th>\n",
       "      <td>125</td>\n",
       "    </tr>\n",
       "    <tr>\n",
       "      <th>Documentary</th>\n",
       "      <td>832</td>\n",
       "    </tr>\n",
       "    <tr>\n",
       "      <th>Musical</th>\n",
       "      <td>117</td>\n",
       "    </tr>\n",
       "    <tr>\n",
       "      <th>Reality-TV</th>\n",
       "      <td>2</td>\n",
       "    </tr>\n",
       "    <tr>\n",
       "      <th>War</th>\n",
       "      <td>186</td>\n",
       "    </tr>\n",
       "    <tr>\n",
       "      <th>Western</th>\n",
       "      <td>53</td>\n",
       "    </tr>\n",
       "    <tr>\n",
       "      <th>Film-Noir</th>\n",
       "      <td>7</td>\n",
       "    </tr>\n",
       "    <tr>\n",
       "      <th>Music</th>\n",
       "      <td>372</td>\n",
       "    </tr>\n",
       "    <tr>\n",
       "      <th>Short</th>\n",
       "      <td>6</td>\n",
       "    </tr>\n",
       "    <tr>\n",
       "      <th>Romance</th>\n",
       "      <td>666</td>\n",
       "    </tr>\n",
       "    <tr>\n",
       "      <th>Sci-Fi</th>\n",
       "      <td>344</td>\n",
       "    </tr>\n",
       "    <tr>\n",
       "      <th>Drama</th>\n",
       "      <td>2478</td>\n",
       "    </tr>\n",
       "  </tbody>\n",
       "</table>\n",
       "</div>"
      ],
      "text/plain": [
       "                0\n",
       "Thriller      869\n",
       "Action        706\n",
       "Horror        373\n",
       "History       343\n",
       "Adventure     561\n",
       "Adult           1\n",
       "Family        350\n",
       "Comedy       1158\n",
       "Biography     516\n",
       "Animation     260\n",
       "Fantasy       414\n",
       "Crime         509\n",
       "Mystery       408\n",
       "News           20\n",
       "Sport         125\n",
       "Documentary   832\n",
       "Musical       117\n",
       "Reality-TV      2\n",
       "War           186\n",
       "Western        53\n",
       "Film-Noir       7\n",
       "Music         372\n",
       "Short           6\n",
       "Romance       666\n",
       "Sci-Fi        344\n",
       "Drama        2478"
      ]
     },
     "execution_count": 180,
     "metadata": {},
     "output_type": "execute_result"
    }
   ],
   "source": [
    "## We are going to ignore the genres that are under-represented in our analysis for tweets, otherwise genres\n",
    "## Such as film-noir and reality-tv don't have enough data to get actionable results\n",
    "## We will drop Adult, News, Reality-TV, Film-Noir, Short\n",
    "genre_count = df_genres.sum()\n",
    "genre_count = pd.DataFrame(genre_count)\n",
    "genre_count.drop(['Title', 'Title_LC', 'Genres', 'Gross'], inplace=True)\n",
    "genre_count"
   ]
  },
  {
   "cell_type": "code",
   "execution_count": 181,
   "metadata": {
    "scrolled": true
   },
   "outputs": [],
   "source": [
    "# We noticed some float 'nans' in the genre column that we want to eliminate\n",
    "nan_genre_index = twitter_df[twitter_df['Genres'].apply(lambda x: True if type(x)==float else False) == True].index\n",
    "twitter_df.drop(nan_genre_index, inplace=True)\n",
    "\n"
   ]
  },
  {
   "cell_type": "code",
   "execution_count": 182,
   "metadata": {},
   "outputs": [],
   "source": [
    "# For every genre, we will create a dictionary containing the name of the genre along with the median number of \n",
    "# likes, retweets, and replies. We will then use those dictionary to create a dataframe to graph and show our results\n",
    "\n",
    "twitter_by_genre = []\n",
    "for genre in genres:\n",
    "    \n",
    "    # if no values for that genre, we just add zero\n",
    "    try:\n",
    "        likes = twitter_df[['Likes', genre]].groupby(genre).median().iloc[1][0]\n",
    "    except: \n",
    "        likes = 0\n",
    "    try:   \n",
    "        retweets = twitter_df[['Retweets', genre]].groupby(genre).median().iloc[1][0]\n",
    "    except:    \n",
    "        retweets = 0\n",
    "    try:   \n",
    "        replies = twitter_df[['Replies', genre]].groupby(genre).median().iloc[1][0]\n",
    "    except:\n",
    "        replies = 0\n",
    "        \n",
    "    twitter_by_genre.append({\n",
    "        'Genre': genre,\n",
    "        'Median Likes': likes,\n",
    "        'Median Retweets': retweets,\n",
    "        'Median Replies': replies\n",
    "        })"
   ]
  },
  {
   "cell_type": "code",
   "execution_count": 183,
   "metadata": {},
   "outputs": [],
   "source": [
    "twitter_genre_df = pd.DataFrame(twitter_by_genre)"
   ]
  },
  {
   "cell_type": "code",
   "execution_count": 184,
   "metadata": {},
   "outputs": [],
   "source": [
    "twitter_genre_df = twitter_genre_df.drop([5, 13, 17, 20, 22]).reset_index().drop('index', axis=1) "
   ]
  },
  {
   "cell_type": "code",
   "execution_count": 186,
   "metadata": {},
   "outputs": [
    {
     "data": {
      "image/png": "[encoded data removed]",
      "text/plain": [
       "<Figure size 1728x432 with 3 Axes>"
      ]
     },
     "metadata": {
      "needs_background": "light"
     },
     "output_type": "display_data"
    }
   ],
   "source": [
    "new_figure = plt.figure(figsize=(24,6))\n",
    "new_figure.suptitle('2020 Movie Genres Aggregate Twitter Data', fontsize=16)\n",
    "\n",
    "ax1 = new_figure.add_subplot(131)\n",
    "ax1.set_title('Median Likes by Genre')\n",
    "sns.barplot(y='Genre', x='Median Likes', data=twitter_genre_df, ax=ax1)\n",
    "\n",
    "ax2 = new_figure.add_subplot(132)\n",
    "ax2.set_title('Median Retweets by Genre')\n",
    "sns.barplot(y='Genre', x='Median Retweets', data=twitter_genre_df, ax=ax2)\n",
    "\n",
    "ax3 = new_figure.add_subplot(133)\n",
    "ax3.set_title('Median Replies by Genre')\n",
    "sns.barplot(y='Genre', x='Median Replies', data=twitter_genre_df, ax=ax3)\n",
    "new_figure.savefig('/Users/brianmccabe/Desktop/Twitter_Genre_Averages')"
   ]
  },
  {
   "cell_type": "markdown",
   "metadata": {},
   "source": [
    "After compiling a list of likes, retweets, and replies for top tweets for every movie, we then wanted to see how the numbers responded to grouping by movie category. From the data above, it appears that musicals get quite a lot of social media presence. This could be for a variety of reasons. (1) While musicals are not as common as action/adventure, when they are released, they are often released based on a world-famous broadway show such as Les Mis or on a world famous musician (Elton John - Rocketman), so they could amass quite a large following on social media. (2) People often times create cover-songs or even musical-parodies based off famous songs. Twitter would be a place for people to share these videos, and if one of them goes viral (either it is a very funny spoof or a really impressive work of musician-ship), it would amass a lot of likes/retweets/replies.\n",
    "\n",
    "As far as recommendations to Microsoft, this data should be taken with a grain of salt. Data found on twitter should not be held in high standards, and certainly should not be used to make any decisions. These findings are more of a nice-to-have. Once Microsoft decides on a movie, they can check these charts, compare them with the movie genre they decided to make, and from that, can get a very rough idea of how much social media presence their movie can expect. This could help them decide on how much they should invest in social media advertizing for their movie. "
   ]
  },
  {
   "cell_type": "code",
   "execution_count": null,
   "metadata": {},
   "outputs": [],
   "source": []
  },
  {
   "cell_type": "code",
   "execution_count": null,
   "metadata": {},
   "outputs": [],
   "source": []
  }
 ],
 "metadata": {
  "kernelspec": {
   "display_name": "Python 3",
   "language": "python",
   "name": "python3"
  },
  "language_info": {
   "codemirror_mode": {
    "name": "ipython",
    "version": 3
   },
   "file_extension": ".py",
   "mimetype": "text/x-python",
   "name": "python",
   "nbconvert_exporter": "python",
   "pygments_lexer": "ipython3",
   "version": "3.8.3"
  }
 },
 "nbformat": 4,
 "nbformat_minor": 4
}
